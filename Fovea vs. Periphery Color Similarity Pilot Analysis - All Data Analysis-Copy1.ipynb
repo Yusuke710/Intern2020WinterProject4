{
 "cells": [
  {
   "cell_type": "markdown",
   "metadata": {},
   "source": [
    "### Filename we're going to play with"
   ]
  },
  {
   "cell_type": "code",
   "execution_count": 1,
   "metadata": {},
   "outputs": [],
   "source": [
    "#filename = \"data/mturkfvppilot_scaling3_time250_2stim.csv\"\n",
    "filename = \"data/alldata.csv\""
   ]
  },
  {
   "cell_type": "code",
   "execution_count": 2,
   "metadata": {},
   "outputs": [],
   "source": [
    "stimuli_number = 9\n",
    "response_type_list = c('during','after_1','after_2')\n",
    "response_names = c('During', 'After stimuli (1) & response screen','After stimuli (2)')"
   ]
  },
  {
   "cell_type": "code",
   "execution_count": 3,
   "metadata": {},
   "outputs": [],
   "source": [
    "trace_cutoff = 2 # mean dissimilarity for physically identical colours must be below this\n",
    "antitrace_cutoff = 3.5 # mean dissimilarity accepted for maximally physically different colours must be above this\n",
    "rt_cutoff = 700 # mean reaction times must be above this"
   ]
  },
  {
   "cell_type": "code",
   "execution_count": 4,
   "metadata": {},
   "outputs": [],
   "source": [
    "exclude_noncompliant = FALSE"
   ]
  },
  {
   "cell_type": "code",
   "execution_count": 5,
   "metadata": {},
   "outputs": [],
   "source": [
    "plotsubjects = FALSE\n",
    "plot_within_between = FALSE\n",
    "plotexpsummary = FALSE\n",
    "across = FALSE\n",
    "population = FALSE"
   ]
  },
  {
   "cell_type": "markdown",
   "metadata": {},
   "source": [
    "### Initialisations"
   ]
  },
  {
   "cell_type": "code",
   "execution_count": 6,
   "metadata": {},
   "outputs": [],
   "source": [
    "# live dangerously, get rid of pesky warnings\n",
    "oldw <- getOption(\"warn\")\n",
    "options(warn = -1)"
   ]
  },
  {
   "cell_type": "code",
   "execution_count": 7,
   "metadata": {
    "scrolled": true
   },
   "outputs": [
    {
     "name": "stderr",
     "output_type": "stream",
     "text": [
      "\n",
      "Attaching package: 'tidyr'\n",
      "\n",
      "The following object is masked _by_ '.GlobalEnv':\n",
      "\n",
      "    population\n",
      "\n",
      "\n",
      "Attaching package: 'dplyr'\n",
      "\n",
      "The following objects are masked from 'package:plyr':\n",
      "\n",
      "    arrange, count, desc, failwith, id, mutate, rename, summarise,\n",
      "    summarize\n",
      "\n",
      "The following objects are masked from 'package:stats':\n",
      "\n",
      "    filter, lag\n",
      "\n",
      "The following objects are masked from 'package:base':\n",
      "\n",
      "    intersect, setdiff, setequal, union\n",
      "\n",
      "Registered S3 methods overwritten by 'ggplot2':\n",
      "  method         from \n",
      "  [.quosures     rlang\n",
      "  c.quosures     rlang\n",
      "  print.quosures rlang\n",
      "\n",
      "Attaching package: 'gridExtra'\n",
      "\n",
      "The following object is masked from 'package:dplyr':\n",
      "\n",
      "    combine\n",
      "\n",
      "\n",
      "Attaching package: 'MASS'\n",
      "\n",
      "The following object is masked from 'package:dplyr':\n",
      "\n",
      "    select\n",
      "\n",
      "\n",
      "Attaching package: 'Matrix'\n",
      "\n",
      "The following object is masked from 'package:tidyr':\n",
      "\n",
      "    expand\n",
      "\n",
      "\n",
      "Attaching package: 'reshape2'\n",
      "\n",
      "The following object is masked from 'package:tidyr':\n",
      "\n",
      "    smiths\n",
      "\n",
      "Loading required package: permute\n",
      "Loading required package: lattice\n",
      "This is vegan 2.5-6\n"
     ]
    }
   ],
   "source": [
    "shhh <- suppressPackageStartupMessages # stops annoying warnings when loading libraries\n",
    "library(tidyr)\n",
    "library(plyr)\n",
    "library(dplyr)\n",
    "library(ggplot2)\n",
    "library(gridExtra)\n",
    "library(MASS)\n",
    "library(Matrix)\n",
    "library(reshape2)\n",
    "library(ape) # stats\n",
    "library(vegan) # stats\n",
    "library(RColorBrewer)\n",
    "library(cocor)\n",
    "library(DescTools)\n",
    "library(reshape2)\n",
    "library(grid)\n",
    "library(ggplotify)\n",
    "# to make a box plot\n",
    "#library(tidyverse)\n",
    "#library(hrbrthemes)\n",
    "#library(viridis)"
   ]
  },
  {
   "cell_type": "code",
   "execution_count": 8,
   "metadata": {},
   "outputs": [],
   "source": [
    "# rainbowcloud theme for plotting, stolen from: \n",
    "# https://micahallen.org/2018/03/15/introducing-raincloud-plots/?utm_campaign=News&utm_medium=Community&utm_source=DataCamp.com\n",
    "raincloud_theme = theme(\n",
    "text = element_text(size = 10),\n",
    "axis.title.x = element_text(size = 16),\n",
    "axis.title.y = element_text(size = 16),\n",
    "axis.text = element_text(size = 14),\n",
    "axis.text.x = element_text(angle = 45, vjust = 0.5),\n",
    "legend.title=element_text(size=16),\n",
    "legend.text=element_text(size=16),\n",
    "legend.position = \"right\",\n",
    "plot.title = element_text(lineheight=.8, face=\"bold\", size = 16),\n",
    "panel.border = element_blank(),\n",
    "panel.grid.minor = element_blank(),\n",
    "panel.grid.major = element_blank(),\n",
    "axis.line.x = element_line(colour = 'black', size=0.5, linetype='solid'),\n",
    "axis.line.y = element_line(colour = 'black', size=0.5, linetype='solid'))"
   ]
  },
  {
   "cell_type": "code",
   "execution_count": 9,
   "metadata": {},
   "outputs": [],
   "source": [
    "# stealing ability to make flat violin plots\n",
    "source(\"https://gist.githubusercontent.com/benmarwick/2a1bb0133ff568cbe28d/raw/fb53bd97121f7f9ce947837ef1a4c65a73bffb3f/geom_flat_violin.R\")"
   ]
  },
  {
   "cell_type": "markdown",
   "metadata": {},
   "source": [
    "### Functions we're going to use to do the analysis later"
   ]
  },
  {
   "cell_type": "markdown",
   "metadata": {},
   "source": [
    "#### Miscellaneous"
   ]
  },
  {
   "cell_type": "code",
   "execution_count": 10,
   "metadata": {},
   "outputs": [],
   "source": [
    "# get plot eccentricity labels\n",
    "ploteccen <- function(datadf){\n",
    "    if(datadf$Circle_1[1] == -1){\n",
    "            label1 = 'Foveal'\n",
    "        } else {\n",
    "            label1 = 'Peripheral'\n",
    "        }\n",
    "        if(datadf$Circle_2[1] == -1){\n",
    "            label2 = 'Foveal'\n",
    "        } else {\n",
    "            label2 = 'Peripheral'\n",
    "        }\n",
    "    return(c(label1,label2))\n",
    "}\n",
    "\n",
    "e2l <- function(eccentricity){\n",
    "    if(eccentricity == -1){\n",
    "        return('Foveal')\n",
    "    } else {\n",
    "        return('Peripheral')\n",
    "    }\n",
    "}\n",
    "\n",
    "l2e <- function(eccentricity){\n",
    "    if(eccentricity == 'Foveal'){\n",
    "        return(-1)\n",
    "    } else {\n",
    "        return(1)\n",
    "    }\n",
    "}"
   ]
  },
  {
   "cell_type": "markdown",
   "metadata": {},
   "source": [
    "#### Dissimilarity Matrices"
   ]
  },
  {
   "cell_type": "code",
   "execution_count": 11,
   "metadata": {},
   "outputs": [],
   "source": [
    "# obtain dissimilarity matrices with particular eccentricity values from dataframes\n",
    "dissimdata <- function(datadf, colors, eccentricity1, eccentricity2){\n",
    "    # select only the eccentricities we want to keep, e.g. (foveal, foveal)\n",
    "    datatemp = subset(datadf, Circle_1 == eccentricity1)\n",
    "    datatemp = subset(datatemp, Circle_2 == eccentricity2)\n",
    "    \n",
    "    # refactor the levels so they can be plotted properly later if need be\n",
    "    datatemp$Color_1 <- with(datatemp, factor(Color_1, levels = colors))\n",
    "    datatemp$Color_2 <- with(datatemp, factor(Color_2, levels = colors))\n",
    "    \n",
    "    return(datatemp)\n",
    "}"
   ]
  },
  {
   "cell_type": "code",
   "execution_count": 12,
   "metadata": {},
   "outputs": [],
   "source": [
    "# plot a dissimilarity matrix\n",
    "dissimplot <- function(datadf,colors,dependent='color'){\n",
    "    \n",
    "   # labeling the plot eccentricity comparisons\n",
    "    label1 <- ploteccen(datadf)[1]\n",
    "    label2 <- ploteccen(datadf)[2]\n",
    "    \n",
    "    \n",
    "    if(dependent == 'position'){ # use position to generate matrix (as a negative control)\n",
    "        plot <- ggplot(datadf, aes(x = bin1, y = bin2)) +\n",
    "        theme(        axis.title.x = element_blank(), axis.title.y = element_blank(),\n",
    "                      plot.title = element_text(hjust = 0.5)) +\n",
    "                      scale_x_discrete(limits=c(1,2,3,4,5,6,7,8,9)) + scale_y_discrete(limits=c(1,2,3,4,5,6,7,8,9))\n",
    "    } else { # use the colors to generate the matrix\n",
    "        plot <- ggplot(datadf, aes(x = Color_1, y = Color_2)) +\n",
    "        theme(axis.text.x = element_text(colour = colors), axis.text.y = element_text(colour = colors),\n",
    "                      axis.title.x = element_blank(), axis.title.y = element_blank(),\n",
    "                      plot.title = element_text(hjust = 0.5))\n",
    "    }\n",
    "    # stuff that's standard across plot types\n",
    "        plot <- plot + geom_raster(aes(fill = p_confidence)) +\n",
    "                labs(title = paste(label1, label2, sep = \" - \")) +\n",
    "                scale_fill_gradientn(colours = c(\"white\",\"black\")) +\n",
    "                guides(fill=guide_legend(title=\"Dissimilarity\"))\n",
    "    return(plot)\n",
    "}"
   ]
  },
  {
   "cell_type": "code",
   "execution_count": 13,
   "metadata": {},
   "outputs": [],
   "source": [
    "df2mat_asymmetry <- function(datadf,eccentricity1,eccentricity2){\n",
    "    \n",
    "    datadf <- dissimdata(datadf, colors, eccentricity1, eccentricity2)\n",
    "    \n",
    "    # aggregate over the remaining columns of interest\n",
    "    nmdsdata <- aggregate(datadf, by = list(datadf$Color_1, datadf$Color_2),FUN=mean)\n",
    "    nmdsdata$Color_1 <- nmdsdata$Group.1\n",
    "    nmdsdata$Color_2 <- nmdsdata$Group.2\n",
    "\n",
    "    nmdsdata = subset(nmdsdata, select = c(\"Color_1\",\"Color_2\",\"p_confidence\"))  # get rid of unnecessary columns\n",
    "    nmdsmatrix <- spread(nmdsdata, Color_1, p_confidence)\n",
    "    # convert the dataframe to a matrix\n",
    "    nmdsmatrix <- data.matrix(nmdsmatrix)\n",
    "    nmdsmatrix <- nmdsmatrix[,-1] # get rid of the labels in the first column, it messes up the code\n",
    "    matdf <- as.data.frame(nmdsmatrix - t(nmdsmatrix))\n",
    "    matdf$colorset <- c(abcolors)\n",
    "    num_colors <- length(colors)\n",
    "    matdf <- matdf %>% gather(othercolor,asymmetry ,1:num_colors)\n",
    "    return(matdf)\n",
    "}"
   ]
  },
  {
   "cell_type": "code",
   "execution_count": 14,
   "metadata": {},
   "outputs": [],
   "source": [
    "# plot an asymmetry matrix\n",
    "asymmetry_plot <- function(datadf,eccentricity1,eccentricity2,colors){\n",
    "    \n",
    "    # labeling the types\n",
    "    label1 <- \"Presented\"\n",
    "    label2 <- \"Response Screen\"\n",
    "    \n",
    "    datadf <- df2mat_asymmetry(datadf,eccentricity1,eccentricity2)\n",
    "    \n",
    "    # refactor the levels so they can be plotted properly later if need be\n",
    "    datadf$colorset <- with(datadf, factor(colorset, levels = colors))\n",
    "    datadf$othercolor <- with(datadf, factor(othercolor, levels = colors))\n",
    "    \n",
    "    plot <- ggplot(datadf, aes(x = colorset, y = othercolor)) +\n",
    "        theme(axis.text.x = element_text(colour = colors), axis.text.y = element_text(colour = colors),\n",
    "                      axis.title.x = element_blank(), axis.title.y = element_blank(),\n",
    "                      plot.title = element_text(hjust = 0.5))\n",
    "    \n",
    "    # stuff that's standard across plot types\n",
    "        plot <- plot + geom_raster(aes(fill = asymmetry)) +\n",
    "                labs(title = paste(label1, label2, sep = \" - \")) +\n",
    "                scale_fill_gradientn(colours = c(\"blue\",\"white\",\"red\"), limits = c(-4,4)) +\n",
    "                guides(fill=guide_legend(title=\"Dissimilarity\\nAsymmetry\"))\n",
    "    return(plot)\n",
    "}"
   ]
  },
  {
   "cell_type": "code",
   "execution_count": 15,
   "metadata": {},
   "outputs": [],
   "source": [
    "# making a matrix symmetric. Stolen from dclone: https://rdrr.io/github/datacloning/dclone/src/R/make.symmetric.R\n",
    "make.symmetric <-\n",
    "function(x)\n",
    "{\n",
    "    if (dim(x)[1] != dim(x)[2])\n",
    "        stop(\"'x' is not sqare matrix\")\n",
    "    rval <- t(x)\n",
    "    m <- (x[lower.tri(x)] + rval[lower.tri(rval)]) / 2\n",
    "    rval[lower.tri(rval)] <- m\n",
    "    rval <- t(rval)\n",
    "    rval[lower.tri(rval)] <- m\n",
    "    rval\n",
    "}"
   ]
  },
  {
   "cell_type": "markdown",
   "metadata": {},
   "source": [
    "#### Multidimensional Scaling Plots"
   ]
  },
  {
   "cell_type": "code",
   "execution_count": 16,
   "metadata": {},
   "outputs": [],
   "source": [
    "# turn a dataset into a matrix\n",
    "df2mat <- function(datadf,eccentricity1,eccentricity2,dependent='color'){\n",
    "    \n",
    "    # select only the eccentricities we want to keep, e.g. (foveal, foveal)\n",
    "    datadf = subset(datadf, Circle_1 == eccentricity1)\n",
    "    datadf = subset(datadf, Circle_2 == eccentricity2)\n",
    "    \n",
    "    if(dependent == 'position'){ # using stimulus location as a negative control\n",
    "        # aggregate over the remaining columns of interest\n",
    "        nmdsdata <- aggregate(datadf, by = list(datadf$bin1, datadf$bin2),FUN=mean)\n",
    "        nmdsdata$bin1 <- nmdsdata$Group.1\n",
    "        nmdsdata$bin2 <- nmdsdata$Group.2\n",
    "        \n",
    "        nmdsdata = subset(nmdsdata, select = c(\"bin1\",\"bin2\",\"p_confidence\"))  # get rid of unnecessary columns\n",
    "        nmdsmatrix <- spread(nmdsdata, bin1, p_confidence)\n",
    "    } else { # color as per normal\n",
    "        # aggregate over the remaining columns of interest\n",
    "        nmdsdata <- aggregate(datadf, by = list(datadf$Color_1, datadf$Color_2),FUN=mean)\n",
    "        nmdsdata$Color_1 <- nmdsdata$Group.1\n",
    "        nmdsdata$Color_2 <- nmdsdata$Group.2\n",
    "        \n",
    "        nmdsdata = subset(nmdsdata, select = c(\"Color_1\",\"Color_2\",\"p_confidence\"))  # get rid of unnecessary columns\n",
    "        nmdsmatrix <- spread(nmdsdata, Color_1, p_confidence)\n",
    "    }\n",
    "    \n",
    "    # convert the dataframe to a matrix\n",
    "    nmdsmatrix <- data.matrix(nmdsmatrix)\n",
    "    nmdsmatrix <- nmdsmatrix[,-1] # get rid of the labels in the first column, it messes up the code\n",
    "    \n",
    "    # having 0 dissimilarity between identical objects messes up the algorithm\n",
    "    # changing the 0 values to an arbitrarily small value, but this is not a good long-term solution\n",
    "    # need to find a better way of doing this\n",
    "    nmdsmatrix[nmdsmatrix == 0] <- 0.01\n",
    "    \n",
    "    \n",
    "    nmdsmatrix <- make.symmetric(nmdsmatrix) # averaging over Color_1 vs. Color_2 & Color_2 vs. Color_1    \n",
    "    return(nmdsmatrix)\n",
    "}"
   ]
  },
  {
   "cell_type": "code",
   "execution_count": 17,
   "metadata": {},
   "outputs": [],
   "source": [
    "# convert a standard matrix to a distance matrix\n",
    "mat2dist <- function(mat){\n",
    "    \n",
    "    return(distmat <- as.dist(mat))\n",
    "}"
   ]
  },
  {
   "cell_type": "markdown",
   "metadata": {},
   "source": [
    "Non-metric multidimensional scaling (NMDS)"
   ]
  },
  {
   "cell_type": "code",
   "execution_count": 18,
   "metadata": {},
   "outputs": [],
   "source": [
    "# find the nmds fit for a dataset\n",
    "nmdsfit <- function(distmatrix){\n",
    "      \n",
    "    fit <- isoMDS(distmatrix,k=2, maxit=100)\n",
    "    return(fit)\n",
    "}"
   ]
  },
  {
   "cell_type": "code",
   "execution_count": 19,
   "metadata": {},
   "outputs": [],
   "source": [
    "# plot the nmds fit\n",
    "nmdsplot <- function(fit, colors, abcolors, eccentricity1, eccentricity2){\n",
    "    \n",
    "    # get labels\n",
    "    \n",
    "    # change the nmdsfit back to a dataframe\n",
    "    nmdsdf <- as.data.frame(fit)\n",
    "    \n",
    "    plot <-     ggplot(nmdsdf, aes(x = points.1, y = points.2, color=colors, fill=colors)) + geom_point(size =10) + \n",
    "                scale_colour_manual(values = abcolors) + scale_fill_manual(values = abcolors) + \n",
    "                xlab(\"Dimension 1\") + ylab(\"Dimension 2\") + \n",
    "                ggtitle(paste(e2l(eccentricity1),e2l(eccentricity2),'Non-metric MDS',sep=' - '))\n",
    "    return(plot)\n",
    "}"
   ]
  },
  {
   "cell_type": "markdown",
   "metadata": {},
   "source": [
    "Classical multidimensional scaling"
   ]
  },
  {
   "cell_type": "code",
   "execution_count": 20,
   "metadata": {},
   "outputs": [],
   "source": [
    "# find the cmds fit for a dataset\n",
    "cmdsfit <- function(distmatrix){\n",
    "    \n",
    "    fit <- cmdscale(distmatrix,k=2)\n",
    "    return(fit)\n",
    "}"
   ]
  },
  {
   "cell_type": "code",
   "execution_count": 21,
   "metadata": {},
   "outputs": [],
   "source": [
    "# plot the cmds fit\n",
    "cmdsplot <- function(fit, colors, abcolors, eccentricity1, eccentricity2){\n",
    "    \n",
    "    # get labels\n",
    "    \n",
    "    # change the nmdsfit back to a dataframe\n",
    "    nmdsdf <- as.data.frame(fit)\n",
    "    \n",
    "    plot <-     ggplot(nmdsdf, aes(x = V1, y = V2, color=colors, fill=colors)) + geom_point(size =10) + \n",
    "                scale_colour_manual(values = abcolors) + scale_fill_manual(values = abcolors) + \n",
    "                xlab(\"Dimension 1\") + ylab(\"Dimension 2\") + \n",
    "                ggtitle(paste(e2l(eccentricity1),e2l(eccentricity2),'Classical MDS',sep=' - '))\n",
    "    return(plot)\n",
    "}"
   ]
  },
  {
   "cell_type": "markdown",
   "metadata": {},
   "source": [
    "#### Some control measure plots"
   ]
  },
  {
   "cell_type": "markdown",
   "metadata": {},
   "source": [
    "Reaction time vs. similarity judgements"
   ]
  },
  {
   "cell_type": "code",
   "execution_count": 22,
   "metadata": {},
   "outputs": [],
   "source": [
    "# similarity judgement histogram\n",
    "simhistplot <- function(datadf){\n",
    "    \n",
    "   plot <- ggplot(datadf, aes(x = p_confidence)) + geom_bar(aes(y = ..prop..)) +\n",
    "    scale_x_discrete(limits=c(0,1,2,3,4,5,6,7), name = 'Dissimilarity') +\n",
    "    ylab('Frequency') + ylim(0,0.8)\n",
    "    return(plot)\n",
    "}\n",
    "\n",
    "simhistplot_summary <- function(datadf){\n",
    "    \n",
    "    datadf$subject <- as.character(datadf$subject) # necessary for visualisation\n",
    "    \n",
    "    plot <- ggplot(datadf, aes(x = p_confidence)) + \n",
    "    geom_line(stat='count',aes(y = ..prop..,group = subject),color='#CC9933') +\n",
    "    geom_line(stat='count',aes(y = ..prop..),size=1.5) +\n",
    "    scale_x_discrete(limits=c(0,1,2,3,4,5,6,7), name = 'Dissimilarity') +\n",
    "    ylab('Frequency') + ylim(0,0.8)\n",
    "    return(plot)\n",
    "    \n",
    "}"
   ]
  },
  {
   "cell_type": "code",
   "execution_count": 23,
   "metadata": {},
   "outputs": [],
   "source": [
    "# reaction time for each similarity\n",
    "rsplot <- function(datadf){\n",
    "    \n",
    "    plot <- ggplot(datadf, aes(x= p_confidence, y=response_time)) + \n",
    "    stat_summary(fun.y = mean, geom = \"bar\") + \n",
    "    stat_summary(fun.data = mean_se, geom = \"errorbar\", size =0.5, aes(width=0.5)) +\n",
    "    scale_x_discrete(limits=c(0,1,2,3,4,5,6,7), name = 'Dissimilarity') + ylab('Reaction Time (ms)') +\n",
    "    theme(legend.position = \"none\") +\n",
    "    ylim(0,4000) # anyone taking more than 4 seconds has probably mindwandered\n",
    "    \n",
    "    return(plot)\n",
    "}\n",
    "\n",
    "rsplot_summary <- function(datadf){\n",
    "    \n",
    "    datadf$subject <- as.character(datadf$subject) # necessary for visualisation\n",
    "    \n",
    "    \n",
    "    \n",
    "    plot <- ggplot(datadf, aes(x= p_confidence, y=response_time,group = subject, color = subject)) + \n",
    "    stat_summary(fun.y = mean, geom = \"line\", size=0.8) + \n",
    "    #stat_summary(fun.data = mean_se, geom = \"errorbar\", size =0.5, aes(width=0.5)) +\n",
    "    scale_x_discrete(limits=c(0,1,2,3,4,5,6,7), name = 'Dissimilarity') + ylab('Mean Reaction Time (ms)') +\n",
    "    theme(legend.position = \"none\") +\n",
    "    ylim(0,4000) # anyone taking more than 4 seconds has probably mindwandered \n",
    "    \n",
    "    return(plot)\n",
    "    \n",
    "}"
   ]
  },
  {
   "cell_type": "code",
   "execution_count": 24,
   "metadata": {},
   "outputs": [],
   "source": [
    "# reaction time raincloud plot\n",
    "rsplot_raincloud <- function(datadf,xtype='linear'){\n",
    "    \n",
    "    datadf$subject <- as.character(datadf$subject) # necessary for visualisation  \n",
    "    datadf$p_confidence <- as.character(datadf$p_confidence) # necessary for visualisation\n",
    "    \n",
    "    ylabtext = 'Reaction Time (ms)'\n",
    "    \n",
    "    plot <- ggplot(datadf, aes(y = response_time, x = p_confidence, fill = p_confidence)) +\n",
    "            geom_flat_violin(position = position_nudge(x = .2, y = 0), alpha = .8) +\n",
    "            geom_point(aes(y = response_time, color = p_confidence),\n",
    "                   position = position_jitter(width = .15), size = .5, alpha = 0.8) +\n",
    "            geom_boxplot(width = .1, guides = FALSE, outlier.shape = NA, alpha = 0.5) +\n",
    "            expand_limits(x = 5.25) +\n",
    "            guides(fill = FALSE) +\n",
    "            guides(color = FALSE) +\n",
    "            scale_color_brewer(palette = \"Spectral\") +\n",
    "            scale_fill_brewer(palette = \"Spectral\") +\n",
    "            xlab('Dissimilarity') + ylab(\"Reaction Time (ms)\")\n",
    "            # coord_flip() +\n",
    "            theme_bw() +\n",
    "            raincloud_theme\n",
    "    \n",
    "    if(xtype == 'log'){\n",
    "        plot <- plot + scale_y_continuous(trans='log10')\n",
    "    } else{\n",
    "        plot <- plot + ylim(0,5000)\n",
    "    }\n",
    "    \n",
    "    return(plot)\n",
    "}"
   ]
  },
  {
   "cell_type": "code",
   "execution_count": 25,
   "metadata": {},
   "outputs": [],
   "source": [
    "# correlation between reaction times and similarity judgements\n",
    "# grouping at individual trial, individual participant, experiment or entire population level\n",
    "rt_similarity_cor <- function(datadf,level='participant'){\n",
    "        \n",
    "    if(level==\"participant\"){\n",
    "        datadf <- datadf %>% \n",
    "                group_by(subject) %>% \n",
    "                mutate(rt_similarity_correlation = cor(p_confidence,response_time))\n",
    "        datadf <- aggregate(datadf, by=list(datadf$subject), FUN = mean)\n",
    "\n",
    "                \n",
    "    }\n",
    "    return(datadf)\n",
    "    \n",
    "}\n",
    "\n",
    "rt_similarity_plot <- function(datadf,xlabel='BLANK'){\n",
    "    \n",
    "    datadf <- rt_similarity_cor(datadf)\n",
    "    \n",
    "    datadf[xlabel] = xlabel\n",
    "    \n",
    "    plot <- ggplot(datadf,aes(x=xlabel,y=rt_similarity_correlation)) + \n",
    "                geom_boxplot() + \n",
    "                geom_dotplot(binaxis='y',stackdir='center',dotsize=0.75) +\n",
    "                theme(text = element_text(size=15)) + xlab(\"\")\n",
    "                ggtitle(title)\n",
    "    \n",
    "    plot <- plot + ylab(\"Correlation (Spearman)\") + ylim(-1,1)\n",
    "    plot <- plot + geom_hline(yintercept=0, linetype=\"dashed\", color = \"blue\")\n",
    "    return(plot)\n",
    "}"
   ]
  },
  {
   "cell_type": "code",
   "execution_count": 26,
   "metadata": {},
   "outputs": [],
   "source": [
    "# mean reaction time vs. antitrace-trace difference\n",
    "rt_difference <- function(datadf){\n",
    "    \n",
    "    subjectlist <- sort(unique(datadf$subject)) # obtain a list of all the subjects\n",
    "    \n",
    "    for(ID in subjectlist){\n",
    "        tempdf <- subset(datadf, subject == ID)\n",
    "        datadf$difference[datadf$subject == ID] = unlist(antitrace_avg(tempdf),use.names=FALSE)[1] - \n",
    "                   unlist(trace_avg(tempdf),use.names=FALSE)[1]\n",
    "    }\n",
    "        datadf <- aggregate(datadf, by=list(datadf$subject), FUN = mean)\n",
    "    return(datadf)\n",
    "}\n",
    "\n",
    "rt_difference_plot <- function(datadf,xtype='linear'){\n",
    "    \n",
    "    plot <- ggplot(rt_difference(datadf), aes(x=response_time, y=difference)) +\n",
    "            geom_point() + xlab(\"Mean Reaction Time\") + ylab(\"Antitrace - Trace\")\n",
    "    \n",
    "    if(xtype == 'log'){\n",
    "        plot <- plot + scale_x_continuous(trans='log10')\n",
    "    } else{\n",
    "        plot <- plot + xlim(0,5000)\n",
    "    }\n",
    "    plot <- plot + geom_smooth(method=lm) # linear line of best fit\n",
    "    return(plot)\n",
    "}"
   ]
  },
  {
   "cell_type": "code",
   "execution_count": 27,
   "metadata": {},
   "outputs": [],
   "source": [
    "# trace values vs. trial #\n",
    "trace_by_trial_plot <- function(datadf,graph='point',mode='relative'){\n",
    "    \n",
    "     datadf$subject <- as.character(datadf$subject) # necessary for visualisation  \n",
    "    \n",
    "    datadf <- subset(datadf, Color_1 == Color_2)\n",
    "    \n",
    "    if(mode=='relative'){\n",
    "        datadf <- datadf %>% group_by(subject) %>% mutate(trialnum = row_number())\n",
    "    } else{\n",
    "        datadf$trialnum <- datadf$trial_number\n",
    "    }\n",
    "        \n",
    "    if(graph=='point'){\n",
    "        plot <- ggplot(datadf, aes(x=trialnum, y = p_confidence, group = subject, color = subject)) + geom_point()\n",
    "    } else if (graph == 'boxplot'){\n",
    "        plot <- ggplot(datadf, aes(x=trialnum,y = p_confidence, group = trialnum)) + geom_boxplot() #????\n",
    "    } else if (graph == 'lineplot'){\n",
    "        plot <- ggplot(datadf, aes(x=trialnum, y = p_confidence,group=subject, color = subject)) + geom_line()\n",
    "    }\n",
    "    \n",
    "    plot <- plot + ylab('Dissimilarity') +  theme(legend.position='none')\n",
    "    \n",
    "    return(plot)\n",
    "    \n",
    "}"
   ]
  },
  {
   "cell_type": "code",
   "execution_count": 28,
   "metadata": {},
   "outputs": [],
   "source": [
    "# subject info\n",
    "sumplot <- function(datadf){\n",
    "    \n",
    "    # change ms to s, add the delay for each trial\n",
    "    datadf$response_time <- ((datadf$response_time + 0.125*nrow(datadf)) / 1000)\n",
    "    \n",
    "    plot <- ggplot(datadf, aes(x=subject, y = response_time)) + \n",
    "    stat_summary(fun.y = sum, geom = \"bar\") + ylim(0,1000) +\n",
    "    ylab('Response Time Total') + theme(axis.title.x=element_blank(), axis.text.x = element_text(size=20))\n",
    "    \n",
    "    return(plot)\n",
    "}"
   ]
  },
  {
   "cell_type": "markdown",
   "metadata": {},
   "source": [
    "### Statistics"
   ]
  },
  {
   "cell_type": "markdown",
   "metadata": {},
   "source": [
    "Useful functions"
   ]
  },
  {
   "cell_type": "code",
   "execution_count": 29,
   "metadata": {},
   "outputs": [],
   "source": [
    "# compare the foveal and peripheral matrices to each other\n",
    "fvp_test <- function(datadf,dependent='color'){\n",
    "    \n",
    "    if(dependent=='position'){\n",
    "        # first, turn the dataframe into the relevant matrices\n",
    "        fmatrix <- df2mat(datadf, l2e('Foveal'), l2e('Foveal'),'position')\n",
    "        #fpmatrix <- distmatrix(datadf, l2e('Foveal'), l2e('Peripheral'))\n",
    "        pmatrix <- df2mat(datadf, l2e('Peripheral'), l2e('Peripheral'),'position')\n",
    "    } else{\n",
    "        # first, turn the dataframe into the relevant matrices\n",
    "        fmatrix <- df2mat(datadf, l2e('Foveal'), l2e('Foveal'))\n",
    "        #fpmatrix <- distmatrix(datadf, l2e('Foveal'), l2e('Peripheral'))\n",
    "        pmatrix <- df2mat(datadf, l2e('Peripheral'), l2e('Peripheral'))\n",
    "    }\n",
    "    #Fovea vs Periphery\n",
    "    test <- mantel(fmatrix, pmatrix, method=\"spearman\",permutations = 9999)\n",
    "    return(test)\n",
    "}"
   ]
  },
  {
   "cell_type": "code",
   "execution_count": 30,
   "metadata": {},
   "outputs": [],
   "source": [
    "# compare the each of the foveal and peripheral matrices to a random uniform distribution using a ... test\n",
    "# not actually sure this is conceptually possible or even makes sense\n",
    "rand_test <- function(datadf){\n",
    "    \n",
    "    # first, turn the dataframe into the relevant matrices\n",
    "    fmatrix <- df2mat(datadf, l2e('Foveal'), l2e('Foveal'))\n",
    "    #fpmatrix <- distmatrix(datadf, l2e('Foveal'), l2e('Peripheral'))\n",
    "    pmatrix <- df2mat(datadf, l2e('Peripheral'), l2e('Peripheral'))\n",
    "    \n",
    "    \n",
    "    # compare\n",
    "    ftest <- \n",
    "    ptest <- \n",
    "    return(list(\"ftest\" = ftest, \"ptest\" = ptest)) # use index of result to get the foveal or peripheral comparison\n",
    "}\n",
    "\n"
   ]
  },
  {
   "cell_type": "code",
   "execution_count": 31,
   "metadata": {},
   "outputs": [],
   "source": [
    "# calculate trace average, small values presumably indicate subjects not just saying everything is completely dissimilar\n",
    "# will also need a complementary method to deal with them saying everything is the same? Might be an inappropriate\n",
    "# a-priori imposition though, I probably can't tell people how similar different colours should be...\n",
    "\n",
    "trace_avg <- function(datadf){\n",
    "    \n",
    "    # first, turn the dataframe into the relevant matrices\n",
    "    fmatrix <- df2mat(datadf, l2e('Foveal'), l2e('Foveal'))\n",
    "    #fpmatrix <- distmatrix(datadf, l2e('Foveal'), l2e('Peripheral'))\n",
    "    pmatrix <- df2mat(datadf, l2e('Peripheral'), l2e('Peripheral'))\n",
    "    \n",
    "    \n",
    "    \n",
    "    return(list( (sum(diag(fmatrix))/nrow(fmatrix)), (sum(diag(pmatrix))/nrow(pmatrix))))\n",
    "}"
   ]
  },
  {
   "cell_type": "code",
   "execution_count": 32,
   "metadata": {},
   "outputs": [],
   "source": [
    "# find the 'anti-trace' of a matrix\n",
    "antitrace <- function(mat){\n",
    "    \n",
    "    sum = 0\n",
    "    for(i in (1:nrow(mat))){\n",
    "        k = as.numeric(mat[ i, as.integer((ncol(mat)/2+i) %% ncol(mat))+1 ])\n",
    "        sum = sum + k\n",
    "    }\n",
    "    return(sum/nrow(mat))\n",
    "}"
   ]
  },
  {
   "cell_type": "code",
   "execution_count": 33,
   "metadata": {},
   "outputs": [],
   "source": [
    "# calculates the average of the 'anti-trace', the values I'd expect to be the most dissimilar.\n",
    "# this may not be an appropriate imposition on subjects...\n",
    "\n",
    "antitrace_avg <- function(datadf){\n",
    "    \n",
    "    # first, turn the dataframe into the relevant matrices\n",
    "    fmatrix <- df2mat(datadf, l2e('Foveal'), l2e('Foveal'))\n",
    "    #fpmatrix <- distmatrix(datadf, l2e('Foveal'), l2e('Peripheral'))\n",
    "    pmatrix <- df2mat(datadf, l2e('Peripheral'), l2e('Peripheral'))\n",
    "    \n",
    "    return(list(antitrace(fmatrix), antitrace(pmatrix)))\n",
    "}"
   ]
  },
  {
   "cell_type": "code",
   "execution_count": 34,
   "metadata": {},
   "outputs": [],
   "source": [
    "# just get a simple measure of if the matrices are correlated, irrespective of treating them as distance matrices\n",
    "matrixcor <- function(datadf,dependent='color'){\n",
    "    \n",
    "    if(dependent == 'position'){\n",
    "        # first, turn the dataframe into the relevant matrices\n",
    "        fmatrix <- df2mat(datadf, l2e('Foveal'), l2e('Foveal'),'position')\n",
    "        #fpmatrix <- distmatrix(datadf, l2e('Foveal'), l2e('Peripheral'))\n",
    "        pmatrix <- df2mat(datadf, l2e('Peripheral'), l2e('Peripheral'),'position')\n",
    "    } else {\n",
    "        # first, turn the dataframe into the relevant matrices\n",
    "        fmatrix <- df2mat(datadf, l2e('Foveal'), l2e('Foveal'))\n",
    "        #fpmatrix <- distmatrix(datadf, l2e('Foveal'), l2e('Peripheral'))\n",
    "        pmatrix <- df2mat(datadf, l2e('Peripheral'), l2e('Peripheral'))\n",
    "    }\n",
    "    \n",
    "    return(cor(c(fmatrix), c(pmatrix), method = \"spearman\"))\n",
    "}"
   ]
  },
  {
   "cell_type": "code",
   "execution_count": 35,
   "metadata": {},
   "outputs": [],
   "source": [
    "# get median reaction time\n",
    "rt_avg <- function(datadf){\n",
    "    return(median(datadf$response_time))\n",
    "}"
   ]
  },
  {
   "cell_type": "markdown",
   "metadata": {},
   "source": [
    "Run the analysis"
   ]
  },
  {
   "cell_type": "code",
   "execution_count": 36,
   "metadata": {},
   "outputs": [],
   "source": [
    "# stats for all the subjects\n",
    "allsubjectstats <- function(datadf){\n",
    "    \n",
    "    subjectlist <- sort(unique(datadf$subject)) # obtain a list of all the subjects\n",
    "\n",
    "\n",
    "    for (subjectid in subjectlist){\n",
    "        \n",
    "        subjectdf = subset(datadf, subject == subjectid) # select the df for subject of interest\n",
    "        cat(\"SUBJECT: \",subjectid,'\\n') # print subject id\n",
    "        print(\"Mantel Test: \")\n",
    "        print(fvp_test(subjectdf))\n",
    "        print(\"Matrices correlation: \")\n",
    "        print(matrixcor(subjectdf))\n",
    "        print(\"Quality control measures:\")\n",
    "        print(\"Trace average:\")\n",
    "        print(trace_avg(subjectdf))\n",
    "        print(\"Anti-trace average:\")\n",
    "        print(antitrace_avg(subjectdf))\n",
    "    }\n",
    "}"
   ]
  },
  {
   "cell_type": "code",
   "execution_count": 37,
   "metadata": {
    "scrolled": true
   },
   "outputs": [],
   "source": [
    "# function to aggregate everyone's data together\n",
    "aggregate_df <- function(datadf,dependent='color'){\n",
    "\n",
    "    # aggregate everyone's data together for the matrices\n",
    "    everyonedata <- aggregate(datadf, by=list(\n",
    "        datadf$Color_1,\n",
    "        datadf$Color_2,\n",
    "        datadf$Circle_1,\n",
    "        datadf$Circle_2,\n",
    "        datadf$bin1,\n",
    "        datadf$bin2\n",
    "        ), FUN=mean, \n",
    "    )\n",
    "\n",
    "    # correct the column names\n",
    "    everyonedata$Color_1 <- everyonedata$Group.1\n",
    "    everyonedata$Color_2 <- everyonedata$Group.2\n",
    "    everyonedata$Circle_1 <- everyonedata$Group.3\n",
    "    everyonedata$Circle_2 <- everyonedata$Group.4\n",
    "    everyonedata$bin1 <- everyonedata$Group.5\n",
    "    everyonedata$bin2 <- everyonedata$Group.6\n",
    "    \n",
    "    return(everyonedata)\n",
    "}"
   ]
  },
  {
   "cell_type": "code",
   "execution_count": 38,
   "metadata": {},
   "outputs": [],
   "source": [
    "# compliance checker\n",
    "compliance_checker <- function(datadf,eccentricity,trace_cutoff,antitrace_cutoff){\n",
    "    \n",
    "    subjectlist <- sort(unique(datadf$subject)) # obtain a list of all the subjects\n",
    "    n_subject = length(subjectlist)\n",
    "    trace_fail = 0\n",
    "    antitrace_fail = 0\n",
    "    \n",
    "    if(eccentricity == 'Foveal'){\n",
    "        e_ind = 1\n",
    "    } else if (eccentricity == 'Peripheral'){\n",
    "        e_ind = 2\n",
    "    }\n",
    "\n",
    "    for (subjectid in subjectlist){\n",
    "        subjectdf = subset(datadf, subject == subjectid) # select the df for subject of interest\n",
    "        if(trace_avg(subjectdf)[e_ind] > trace_cutoff){\n",
    "            trace_fail = trace_fail + 1\n",
    "        }\n",
    "        if(antitrace_avg(subjectdf)[e_ind] < antitrace_cutoff){\n",
    "            antitrace_fail = antitrace_fail + 1\n",
    "        }\n",
    "    }\n",
    "    print(paste(\"Trace non-compliance: \",trace_fail,\"/\",n_subject))\n",
    "    print(paste(\"Anti-trace non-compliance: \",antitrace_fail,\"/\",n_subject))\n",
    "}"
   ]
  },
  {
   "cell_type": "code",
   "execution_count": 39,
   "metadata": {},
   "outputs": [],
   "source": [
    "# summary stats\n",
    "summarystats <- function(datadf,dependent='color'){\n",
    "    if(dependent=='position'){\n",
    "        print(\"Mantel Test: \")\n",
    "        print(fvp_test(aggregate_df(datadf),'position'))\n",
    "        print(\"Matrices correlation: \")\n",
    "        print(matrixcor(aggregate_df(datadf),'position'))\n",
    "    } else {\n",
    "        print(\"Mantel Test: \")\n",
    "        print(fvp_test(aggregate_df(datadf)))\n",
    "        print(\"Matrices correlation: \")\n",
    "        print(matrixcor(aggregate_df(datadf)))\n",
    "    }\n",
    "    \n",
    "    \n",
    "    print(\"Foveal compliance:\")\n",
    "    compliance_checker(datadf,'Foveal')\n",
    "    print(\"Peripheral compliance:\")\n",
    "    compliance_checker(datadf,'Peripheral')\n",
    "}"
   ]
  },
  {
   "cell_type": "markdown",
   "metadata": {},
   "source": [
    "## Actual Data Analysis Time"
   ]
  },
  {
   "cell_type": "markdown",
   "metadata": {},
   "source": [
    "#### Initial data pre-processing, before getting to the subject level"
   ]
  },
  {
   "cell_type": "code",
   "execution_count": 40,
   "metadata": {},
   "outputs": [],
   "source": [
    "datadf = read.csv(filename)\n",
    "savestr <- substr(filename,1,nchar(filename)-4) # for saving related files later\n"
   ]
  },
  {
   "cell_type": "code",
   "execution_count": 41,
   "metadata": {},
   "outputs": [],
   "source": [
    "# remove practice trial data\n",
    "datadf <- subset(datadf, trial_number != 0)"
   ]
  },
  {
   "cell_type": "code",
   "execution_count": 42,
   "metadata": {},
   "outputs": [],
   "source": [
    "# changing color values from RGB to hex for graphing purpose\n",
    "datadf$Color_1 <- as.character(datadf$Color_1)\n",
    "datadf$Color_1 <- revalue(datadf$Color_1, \n",
    "                                                    c(  \"1\" = '#FF0000',\n",
    "                                                        \"2\" = '#FFAA00',\n",
    "                                                        \"3\" = '#AAFF00',\n",
    "                                                        \"4\" = '#00FF00',\n",
    "                                                        \"5\" = '#00FFA9',\n",
    "                                                        \"6\" = '#00A9FF',\n",
    "                                                        \"7\" = '#0000FF',\n",
    "                                                        \"8\" = '#AA00FF',\n",
    "                                                        \"9\" = '#FF00AA'))\n",
    "datadf$Color_2 <- as.character(datadf$Color_2)\n",
    "datadf$Color_2 <- revalue(datadf$Color_2, \n",
    "                                                    c(  \"1\" = '#FF0000',\n",
    "                                                        \"2\" = '#FFAA00',\n",
    "                                                        \"3\" = '#AAFF00',\n",
    "                                                        \"4\" = '#00FF00',\n",
    "                                                        \"5\" = '#00FFA9',\n",
    "                                                        \"6\" = '#00A9FF',\n",
    "                                                        \"7\" = '#0000FF',\n",
    "                                                        \"8\" = '#AA00FF',\n",
    "                                                        \"9\" = '#FF00AA'))\n",
    "\n",
    "# colors for the labels\n",
    "# red, orange, yellow, green, cyan, cyan-blue, blue, purple, pink\n",
    "colors <- c('#FF0000','#FFAA00','#AAFF00','#00FF00','#00FFA9','#00A9FF','#0000FF','#AA00FF','#FF00AA')\n",
    "# can change the way the plot line up\n",
    "# red, pink, orange, purple, yellow, blue, green, cyan-blue, cyan\n",
    "#colors <- c('#FF0000','#FF00AA','#FFAA00','#AA00FF','#AAFF00','#0000FF','#00FF00','#00A9FF','#00FFA9')\n",
    "abcolors <- sort(colors) # this was messing up the asymmetry plot, maybe useful for some other stuff"
   ]
  },
  {
   "cell_type": "code",
   "execution_count": 43,
   "metadata": {},
   "outputs": [],
   "source": [
    "# changing from int indicators in the .csv file to more readable labels for eccentricity\n",
    "foveal = -1\n",
    "peripheral = 1"
   ]
  },
  {
   "cell_type": "code",
   "execution_count": 44,
   "metadata": {},
   "outputs": [],
   "source": [
    "# set the maximum and minimum dissimilarity values for later analysis\n",
    "min_val = 0\n",
    "max_val = 6"
   ]
  },
  {
   "cell_type": "code",
   "execution_count": 45,
   "metadata": {},
   "outputs": [],
   "source": [
    "# binning the positions the stimuli were displayed in to use as a control measure later\n",
    "datadf$bin1 <- as.integer((datadf$Position_1+180) / 40) + 1\n",
    "datadf$bin2 <- as.integer((datadf$Position_2+180) / 40) + 1"
   ]
  },
  {
   "cell_type": "code",
   "execution_count": 46,
   "metadata": {},
   "outputs": [],
   "source": [
    "# adding a trial type label\n",
    "label_eccen_type <- function(datadf){\n",
    "    datadf <- datadf %>%\n",
    "    mutate(trial_type = case_when(Circle_1 == l2e('Foveal') & Circle_2 == l2e('Foveal') ~ 'FF',\n",
    "                             Circle_1 == l2e('Foveal') & Circle_2 == l2e('Peripheral') ~ 'FP',\n",
    "                             Circle_1 == l2e('Peripheral') & Circle_2 == l2e('Peripheral') ~ 'PP'))\n",
    "    return(datadf)\n",
    "}"
   ]
  },
  {
   "cell_type": "code",
   "execution_count": 47,
   "metadata": {},
   "outputs": [],
   "source": [
    "datadf <- label_eccen_type(datadf)"
   ]
  },
  {
   "cell_type": "markdown",
   "metadata": {},
   "source": [
    "Yusuke's codes start"
   ]
  },
  {
   "cell_type": "markdown",
   "metadata": {},
   "source": [
    "Asymmetry caused by location\n",
    "We just need to 2 patches\n"
   ]
  },
  {
   "cell_type": "code",
   "execution_count": 48,
   "metadata": {},
   "outputs": [],
   "source": [
    "# change positions of the patches from polar coordinates to \"left\" and \"right\" or \"top\" and \"bottom\" in the data frame\n",
    "label_position <- function(datadf, direction){\n",
    "\n",
    "        \n",
    "    if (direction == \"left2right\" || direction == \"right2left\") \n",
    "        {\n",
    "    # convert Polar coordinates to Cartesian coordinates and compare the x-coordinates of the patches\n",
    "    # angle(position) has 0 at the top (N)\n",
    "        k = 1\n",
    "            while(k <= length(datadf$Position_1)){\n",
    "\n",
    "                    if (sin(as.numeric(datadf$Position_1[k])) <= sin(as.numeric(datadf$Position_2[k])))\n",
    "                        {datadf$Position_1[k] <- \"left\"\n",
    "                        datadf$Position_2[k] <- \"right\"\n",
    "                        }    \n",
    "\n",
    "                    else if (sin(as.numeric(datadf$Position_1[k])) > sin(as.numeric(datadf$Position_2[k])))\n",
    "                    #    else if (datadf$Position_1[k] > datadf$Position_2[k])\n",
    "                        {datadf$Position_2[k] <- \"left\"\n",
    "                        datadf$Position_1[k] <- \"right\"} \n",
    "\n",
    "                k = k + 1\n",
    "            }\n",
    "        }\n",
    "    \n",
    "    else if (direction == \"top2bottom\" || direction == \"bottom2top\")\n",
    "        {\n",
    "    # convert Polar coordinates to Cartesian coordinates and compare the y-coordinates of the patches\n",
    "        k = 1\n",
    "            while(k <= length(datadf$Position_1)){\n",
    "\n",
    "                    if (cos(as.numeric(datadf$Position_1[k])) <= cos(as.numeric(datadf$Position_2[k])))\n",
    "                   #      if (datadf$Position_1[k] <= datadf$Position_2[k])\n",
    "                        {datadf$Position_1[k] <- \"bottom\"\n",
    "                        datadf$Position_2[k] <- \"top\"\n",
    "                        }    \n",
    "\n",
    "                    else if (cos(as.numeric(datadf$Position_1[k])) > cos(as.numeric(datadf$Position_2[k])))\n",
    "                    #    else if (datadf$Position_1[k] > datadf$Position_2[k])\n",
    "                        {datadf$Position_2[k] <- \"bottom\"\n",
    "                        datadf$Position_1[k] <- \"top\"} \n",
    "\n",
    "                k = k + 1\n",
    "            }\n",
    "        }\n",
    "  \n",
    "    return(datadf)\n",
    "}"
   ]
  },
  {
   "cell_type": "code",
   "execution_count": 49,
   "metadata": {},
   "outputs": [],
   "source": [
    "# obtain particular location values from dataframes for the plot function\n",
    "dissimdata_position <- function(datadf, colors, direction){\n",
    "    \n",
    "    #label position\n",
    "    datatemp <- label_position(datadf, direction)\n",
    "    \n",
    "    # select only the location we want to keep. eg. Left is similar to right\n",
    "    if (direction == \"left2right\")\n",
    "    {datatemp = subset(datatemp, datatemp$Position_1 == \"left\")}  # no need to set Position_2 == \"right\" as Position_2 is already set  \n",
    "                                                       # by Position_1 == \"left\"\n",
    "    else if (direction == \"right2left\")\n",
    "    {datatemp = subset(datatemp, datatemp$Position_1 == \"right\")}\n",
    "    else if (direction == \"top2bottom\")\n",
    "    {datatemp = subset(datatemp, datatemp$Position_1 == \"top\")}\n",
    "    else if (direction == \"bottom2top\")\n",
    "    {datatemp = subset(datatemp, datatemp$Position_1 == \"bottom\")}\n",
    "    \n",
    "    # refactor the levels so they can be plotted properly later if need be\n",
    "    datatemp$Color_1 <- with(datatemp, factor(Color_1, levels = colors))\n",
    "    datatemp$Color_2 <- with(datatemp, factor(Color_2, levels = colors))\n",
    "    \n",
    "    return(datatemp)\n",
    "}"
   ]
  },
  {
   "cell_type": "code",
   "execution_count": null,
   "metadata": {},
   "outputs": [],
   "source": []
  },
  {
   "cell_type": "code",
   "execution_count": 50,
   "metadata": {},
   "outputs": [],
   "source": [
    "dissimplot_position <- function(datadf,colors, direction, dependent='color'){\n",
    "    \n",
    "    # refine data using function \"dissimdata_position \"\n",
    "    datatemp <- dissimdata_position(datadf, colors, direction)\n",
    "    \n",
    "   # labeling the plot eccentricity comparisons\n",
    "    label1 <- datatemp$Position_1[1] \n",
    "    label2 <- datatemp$Position_2[1] \n",
    "      \n",
    "    if(dependent == 'position'){ # use position to generate matrix (as a negative control)\n",
    "        plot <- ggplot(datatemp, aes(x = bin1, y = bin2)) +\n",
    "        theme(        axis.title.x = element_blank(), axis.title.y = element_blank(),\n",
    "                      plot.title = element_text(hjust = 0.5)) +\n",
    "                      scale_x_discrete(limits=c(1,2,3,4,5,6,7,8,9)) + scale_y_discrete(limits=c(1,2,3,4,5,6,7,8,9))\n",
    "    } else { # use the colors to generate the matrix\n",
    "        plot <- ggplot(datatemp, aes(x = Color_1, y = Color_2)) +\n",
    "        theme(axis.text.x = element_text(colour = colors), axis.text.y = element_text(colour = colors),\n",
    "                      axis.title.x = element_blank(), axis.title.y = element_blank(),\n",
    "                      plot.title = element_text(hjust = 0.5))\n",
    "    }\n",
    "    # stuff that's standard across plot types\n",
    "        plot <- plot + geom_raster(aes(fill = p_confidence)) +\n",
    "                labs(title = paste(label1, label2, sep = \" to \")) +\n",
    "                 scale_fill_gradientn(colours = c(\"white\",\"black\")) +\n",
    "                guides(fill=guide_legend(title=\"Dissimilarity\"))\n",
    "    return(plot)\n",
    "}"
   ]
  },
  {
   "cell_type": "code",
   "execution_count": 51,
   "metadata": {},
   "outputs": [],
   "source": [
    "df2mat_asymmetry_position <- function(datadf, direction){\n",
    "    \n",
    "    datatemp <- dissimdata_position(datadf, colors, direction)\n",
    "    \n",
    "    # aggregate over the remaining columns of interest\n",
    "    nmdsdata <- aggregate(datatemp, by = list(datatemp$Color_1, datatemp$Color_2),FUN=mean)\n",
    "    nmdsdata$Color_1 <- nmdsdata$Group.1\n",
    "    nmdsdata$Color_2 <- nmdsdata$Group.2\n",
    "\n",
    "    nmdsdata = subset(nmdsdata, select = c(\"Color_1\",\"Color_2\",\"p_confidence\"))  # get rid of unnecessary columns\n",
    "    nmdsmatrix <- spread(nmdsdata, Color_1, p_confidence) # convert the dataframe to a matrix\n",
    "    #nmdsmatrix[is.na(nmdsmatrix)] <- 0  # change NA to 0 \n",
    "    nmdsmatrix <- data.matrix(nmdsmatrix) # chanee first column from colour to number(just some label stuff) \n",
    "    nmdsmatrix <- nmdsmatrix[,-1] # get rid of the labels in the first column, it messes up the code\n",
    "    matdf <- as.data.frame(nmdsmatrix - t(nmdsmatrix)) # calculate the asymmetry\n",
    "    #matdf$colorset <- c(abcolors) # adding additional column \"colorset\"\n",
    "    matdf$colorset <- c(colors) # adding additional column \"colorset\"\n",
    "    num_colors <- length(colors)\n",
    "    matdf <- matdf %>% gather(othercolor,asymmetry ,1:num_colors) # convert the matrix back to the data frame which has the \n",
    "                                                                  # column \"colortset\", \"othercolor\", \"asymmetry\"\n",
    "    return(matdf)\n",
    "}"
   ]
  },
  {
   "cell_type": "code",
   "execution_count": 52,
   "metadata": {},
   "outputs": [],
   "source": [
    "# plot an asymmetry matrix\n",
    "asymmetry_plot_position <- function(datadf, colors, direction){\n",
    "    \n",
    "    #lable the positions \n",
    "    datatemp <- dissimdata_position(datadf, colors, direction) # does not work if using function \"label_position\"\n",
    "    \n",
    "    # labeling the types\n",
    "    label1 <- datatemp$Position_1[1]\n",
    "    label2 <- datatemp$Position_2[1]\n",
    "    \n",
    "    datatemp <- df2mat_asymmetry_position(datadf, direction)\n",
    "    \n",
    "    # refactor the levels so they can be plotted properly later if need be\n",
    "    datatemp$colorset <- with(datatemp, factor(colorset, levels = colors))\n",
    "    datatemp$othercolor <- with(datatemp, factor(othercolor, levels = colors))\n",
    "    \n",
    "    plot <- ggplot(datatemp, aes(x = colorset, y = othercolor)) +\n",
    "        theme(axis.text.x = element_text(colour = colors), axis.text.y = element_text(colour = colors),\n",
    "                      axis.title.x = element_blank(), axis.title.y = element_blank(),\n",
    "                      #axis.title.x = element_text(\"left\"), axis.title.y = element_text(\"right\"),\n",
    "                      plot.title = element_text(hjust = 0.5))\n",
    "    \n",
    "    # stuff that's standard across plot types\n",
    "        plot <- plot + geom_raster(aes(fill = asymmetry)) +\n",
    "                labs(title = paste(label1, label2, sep = \" to \")) +\n",
    "                scale_fill_gradientn(colours = c(\"blue\",\"white\",\"red\"), limits = c(-4,4)) +\n",
    "                guides(fill=guide_legend(title=\"Dissimilarity\\nAsymmetry\"))\n",
    "    return(plot)\n",
    "}"
   ]
  },
  {
   "cell_type": "code",
   "execution_count": 82,
   "metadata": {
    "scrolled": true
   },
   "outputs": [
    {
     "data": {
      "image/png": "[encoded data removed]",
      "text/plain": [
       "plot without title"
      ]
     },
     "metadata": {},
     "output_type": "display_data"
    },
    {
     "data": {
      "image/png": "[encoded data removed]",
      "text/plain": [
       "plot without title"
      ]
     },
     "metadata": {},
     "output_type": "display_data"
    }
   ],
   "source": [
    "# test\n",
    "testdf <- subset(datadf, subject == 809668683)\n",
    "#dissimplot_position(testdf,colors, \"right2left\", dependent='color')\n",
    "asymmetry_plot_position(testdf, colors, \"left2right\") "
   ]
  },
  {
   "cell_type": "code",
   "execution_count": 54,
   "metadata": {},
   "outputs": [],
   "source": [
    "quantify_asymmetry_position <- function(datadf, direction){\n",
    "    \n",
    "    datadf <- dissimdata_position(datadf, colors, direction)\n",
    "    \n",
    "    # aggregate over the remaining columns of interest\n",
    "    nmdsdata <- aggregate(datadf, by = list(datadf$Color_1, datadf$Color_2),FUN=mean)\n",
    "    nmdsdata$Color_1 <- nmdsdata$Group.1\n",
    "    nmdsdata$Color_2 <- nmdsdata$Group.2\n",
    "\n",
    "    nmdsdata = subset(nmdsdata, select = c(\"Color_1\",\"Color_2\",\"p_confidence\"))  # get rid of unnecessary columns\n",
    "    \n",
    "    nmdsmatrix <- spread(nmdsdata, Color_1, p_confidence) # convert the dataframe to a matrix\n",
    "    nmdsmatrix <- data.matrix(nmdsmatrix) # chanee first column from colour to number(just some label stuff) \n",
    "    nmdsmatrix <- nmdsmatrix[,-1] # get rid of the labels in the first column, it messes up the code\n",
    "    nmdsmatrix[is.na(nmdsmatrix)] <- 0  # change NA to 0 so sum can be calculated.\n",
    "    \n",
    "    matdf <- as.data.frame(abs(nmdsmatrix - t(nmdsmatrix))) # calculate the asymmetry\n",
    "    asymmery_value <- sum(matdf)/2 # need to divide by 2 to et rid of the duplicates\n",
    "\n",
    "    return(asymmery_value)\n",
    "}"
   ]
  },
  {
   "cell_type": "code",
   "execution_count": 55,
   "metadata": {},
   "outputs": [
    {
     "data": {
      "text/html": [
       "53.3333333333333"
      ],
      "text/latex": [
       "53.3333333333333"
      ],
      "text/markdown": [
       "53.3333333333333"
      ],
      "text/plain": [
       "[1] 53.33333"
      ]
     },
     "metadata": {},
     "output_type": "display_data"
    }
   ],
   "source": [
    "#test\n",
    "testdf <- subset(datadf, subject == 809668683)\n",
    "quantify_asymmetry_position(testdf, \"left2right\")"
   ]
  },
  {
   "cell_type": "code",
   "execution_count": 56,
   "metadata": {},
   "outputs": [],
   "source": [
    "df2mat_asymmetry_position_2.0 <- function(datadf, direction){\n",
    "    # this version changes NA to 0 to reduce holes in the plot but still not very accurate\n",
    "    \n",
    "    datadf <- dissimdata_position(datadf, colors, direction)# does not work if using function \"label_position\". \"left\" and \"right\" is opposite \n",
    "    \n",
    "    # aggregate over the remaining columns of interest\n",
    "    nmdsdata <- aggregate(datadf, by = list(datadf$Color_1, datadf$Color_2),FUN=mean)\n",
    "    nmdsdata$Color_1 <- nmdsdata$Group.1\n",
    "    nmdsdata$Color_2 <- nmdsdata$Group.2\n",
    "\n",
    "    nmdsdata = subset(nmdsdata, select = c(\"Color_1\",\"Color_2\",\"p_confidence\"))  # get rid of unnecessary columns\n",
    "    nmdsmatrix <- spread(nmdsdata, Color_1, p_confidence) # convert the dataframe to a matrix\n",
    "    nmdsmatrix <- data.matrix(nmdsmatrix) # chanee first column from colour to number(just some label stuff) \n",
    "    nmdsmatrix <- nmdsmatrix[,-1] # get rid of the labels in the first column, it messes up the code\n",
    "    nmdsmatrix[is.na(nmdsmatrix)] <- 0  # change NA to 0 \n",
    "    matdf <- as.data.frame(nmdsmatrix - t(nmdsmatrix)) # calculate the asymmetry\n",
    "    #matdf$colorset <- c(abcolors) # adding additional column \"colorset\"\n",
    "    matdf$colorset <- c(colors) # adding additional column \"colorset\"\n",
    "    num_colors <- length(colors)\n",
    "    matdf <- matdf %>% gather(othercolor,asymmetry ,1:num_colors) # convert the matrix back to the data frame which has the \n",
    "                                                                  # column \"colortset\", \"othercolor\", \"asymmetry\"\n",
    "    return(matdf)\n",
    "}"
   ]
  },
  {
   "cell_type": "code",
   "execution_count": 57,
   "metadata": {},
   "outputs": [],
   "source": [
    "# plot an asymmetry matrix\n",
    "asymmetry_plot_position_2.0 <- function(datadf,colors, direction){\n",
    "    \n",
    "    # labeling the types\n",
    "    datatemp <- dissimdata_position(datadf, colors, direction)\n",
    "    label1 <- datatemp$Position_1[1]\n",
    "    label2 <- datatemp$Position_2[1] #cannot use datadf as we want to keep the numeric Position_1 and Position_2\n",
    "    \n",
    "    datadf <- df2mat_asymmetry_position_2.0(datadf, direction)\n",
    "    \n",
    "    # refactor the levels so they can be plotted properly later if need be\n",
    "    datadf$colorset <- with(datadf, factor(colorset, levels = colors))\n",
    "    datadf$othercolor <- with(datadf, factor(othercolor, levels = colors))\n",
    "    \n",
    "    plot <- ggplot(datadf, aes(x = colorset, y = othercolor)) +\n",
    "        theme(axis.text.x = element_text(colour = colors), axis.text.y = element_text(colour = colors),\n",
    "                      axis.title.x = element_blank(), axis.title.y = element_blank(),\n",
    "                      #axis.title.x = element_text(\"left\"), axis.title.y = element_text(\"right\"),\n",
    "                      plot.title = element_text(hjust = 0.5))\n",
    "    \n",
    "    # stuff that's standard across plot types\n",
    "        plot <- plot + geom_raster(aes(fill = asymmetry)) +\n",
    "                labs(title = paste(label1, label2, sep = \" to \")) +\n",
    "                scale_fill_gradientn(colours = c(\"blue\",\"white\",\"red\"), limits = c(-4,4)) +\n",
    "                guides(fill=guide_legend(title=\"Dissimilarity\\nAsymmetry\"))\n",
    "    return(plot)\n",
    "}"
   ]
  },
  {
   "cell_type": "code",
   "execution_count": 58,
   "metadata": {
    "scrolled": true
   },
   "outputs": [],
   "source": [
    "# test\n",
    "#testdf <- subset(datadf, subject == 809668683)\n",
    "#asymmetry_plot_position_2.0(testdf,colors, \"left2right\")\n",
    "# why does it still produce some holes??"
   ]
  },
  {
   "cell_type": "code",
   "execution_count": 59,
   "metadata": {},
   "outputs": [],
   "source": [
    "# return a list of the asymmetrical values for each subject\n",
    "asymValues_list <- function(datadf, direction){\n",
    "    \n",
    "    subjectlist <- sort(unique(datadf$subject)) # obtain a list of all the subjects\n",
    "    \n",
    "    asymValues_list <- vector() # array to store the values in\n",
    "    \n",
    "    for (ID in subjectlist){ # go through subject by subject\n",
    "        subjectdf = subset(datadf, subject == ID) # select the ID for subject of interest\n",
    "        asymValues_list <- c(asymValues_list, quantify_asymmetry_position(subjectdf, direction))\n",
    "    }\n",
    "    return(asymValues_list)\n",
    "}"
   ]
  },
  {
   "cell_type": "code",
   "execution_count": 60,
   "metadata": {},
   "outputs": [],
   "source": [
    "#output multiple boxplots from input \"asymmetry_values_list\"\n",
    "asymValues_Boxplot <- function(datadf){ # add conditions\n",
    "    \n",
    "    # prepare the data\n",
    "    # make sure to compare 2 patches without temporal asymmetry\n",
    "    datadf_2patches <- subset(datadf, datadf$stimuli_count == 2 & is.na(datadf$cue_display_time)) \n",
    "    #Two <- asymValues_list2(datadf_2patches) # the position of the 2 patches are arbitrary\n",
    "    LtoR <- asymValues_list(datadf_2patches, \"left2right\")\n",
    "    RtoL <- asymValues_list(datadf_2patches, \"right2left\")\n",
    "    TtoB <- asymValues_list(datadf_2patches, \"top2bottom\")\n",
    "    BtoT <- asymValues_list(datadf_2patches, \"bottom2top\")\n",
    "    \n",
    "    # make a list\n",
    "    x <- list(\"LtoR\"=LtoR, \"RtoL\"=RtoL, \"TtoB\"=TtoB, \"BtoT\"=BtoT) # connects all data together\n",
    "    x <- data.frame(x) # converts the list to data frame\n",
    "\n",
    "    # box plot and dots\n",
    "    plot <- ggplot(stack(x),aes(x=ind,y=values)) + \n",
    "                geom_boxplot(color=\"orange\") + \n",
    "                geom_dotplot(binaxis='y',stackdir='center',dotsize=0.75, color=\"skyblue\") +\n",
    "                theme(text = element_text(size=15)) + xlab(\"\")\n",
    "                ggtitle(title)\n",
    "    return(plot)\n",
    "}"
   ]
  },
  {
   "cell_type": "code",
   "execution_count": 61,
   "metadata": {
    "scrolled": false
   },
   "outputs": [
    {
     "name": "stderr",
     "output_type": "stream",
     "text": [
      "`stat_bindot()` using `bins = 30`. Pick better value with `binwidth`.\n"
     ]
    },
    {
     "data": {
      "image/png": "[encoded data removed]",
      "text/plain": [
       "plot without title"
      ]
     },
     "metadata": {},
     "output_type": "display_data"
    }
   ],
   "source": [
    "# output\n",
    "#testdf <- subset(datadf, subject == 809668683)\n",
    "asymValues_Boxplot(datadf)"
   ]
  },
  {
   "cell_type": "markdown",
   "metadata": {},
   "source": [
    "Asymmetry caused by multiple patches"
   ]
  },
  {
   "cell_type": "markdown",
   "metadata": {},
   "source": [
    "Most of the function is reused from asymmetry by location, but without \"direction\" input"
   ]
  },
  {
   "cell_type": "code",
   "execution_count": 62,
   "metadata": {},
   "outputs": [],
   "source": [
    "# factor the dataframes for the plot function\n",
    "dissimdata2 <- function(datadf, colors){\n",
    "    \n",
    "    \n",
    "    # refactor the levels so they can be plotted properly later if need be\n",
    "    datadf$Color_1 <- with(datadf, factor(Color_1, levels = colors))\n",
    "    datadf$Color_2 <- with(datadf, factor(Color_2, levels = colors))\n",
    "    \n",
    "    return(datadf)\n",
    "}"
   ]
  },
  {
   "cell_type": "code",
   "execution_count": 63,
   "metadata": {},
   "outputs": [],
   "source": [
    "quantify_asymmetry <- function(datadf){\n",
    "    \n",
    "    datadf <- dissimdata2(datadf, colors)\n",
    "    \n",
    "    # aggregate over the remaining columns of interest\n",
    "    nmdsdata <- aggregate(datadf, by = list(datadf$Color_1, datadf$Color_2),FUN=mean)\n",
    "    nmdsdata$Color_1 <- nmdsdata$Group.1\n",
    "    nmdsdata$Color_2 <- nmdsdata$Group.2\n",
    "\n",
    "    nmdsdata = subset(nmdsdata, select = c(\"Color_1\",\"Color_2\",\"p_confidence\"))  # get rid of unnecessary columns\n",
    "    \n",
    "    nmdsmatrix <- spread(nmdsdata, Color_1, p_confidence) # convert the dataframe to a matrix\n",
    "    nmdsmatrix <- data.matrix(nmdsmatrix) # chanee first column from colour to number(just some label stuff) \n",
    "    nmdsmatrix <- nmdsmatrix[,-1] # get rid of the labels in the first column, it messes up the code\n",
    "    nmdsmatrix[is.na(nmdsmatrix)] <- 0  # change NA to 0 so sum can be calculated.\n",
    "    \n",
    "    matdf <- as.data.frame(as.vector(abs(nmdsmatrix - t(nmdsmatrix)))) # calculate the asymmetry\n",
    "    asymmery_value <- sum(matdf)/2 # need to divide by 2 to get rid of the duplicates\n",
    "\n",
    "    return(asymmery_value)\n",
    "}"
   ]
  },
  {
   "cell_type": "code",
   "execution_count": 64,
   "metadata": {},
   "outputs": [],
   "source": [
    "# return a list of the asymmetrical values for each subject\n",
    "asymValues_list2 <- function(datadf){\n",
    "    \n",
    "    subjectlist <- sort(unique(datadf$subject)) # obtain a list of all the subjects\n",
    "    \n",
    "    asymValues_list <- vector() # array to store the values in\n",
    "    \n",
    "    for (ID in subjectlist){ # go through subject by subject\n",
    "        subjectdf = subset(datadf, subject == ID) # select the ID for subject of interest\n",
    "        asymValues_list <- c(asymValues_list, quantify_asymmetry(subjectdf))\n",
    "    }\n",
    "    return(asymValues_list)\n",
    "}"
   ]
  },
  {
   "cell_type": "code",
   "execution_count": 65,
   "metadata": {},
   "outputs": [],
   "source": [
    "#output boxplot for multiple patches without temporal asymmetry\n",
    "asymValues_Boxplot_multipatch <- function(datadf){\n",
    "    \n",
    "    # prepare the data\n",
    "    datadf_2patches <- subset(datadf, datadf$stimuli_count == 2 & is.na(datadf$cue_display_time)) \n",
    "    Two <- asymValues_list2(datadf_2patches)\n",
    "    datadf_3patches <- subset(datadf, datadf$stimuli_count == 3 & is.na(datadf$cue_display_time)) \n",
    "    Three <- asymValues_list2(datadf_3patches)\n",
    "    datadf_4patches <- subset(datadf, datadf$stimuli_count == 4 & is.na(datadf$cue_display_time)) \n",
    "    Four <- asymValues_list2(datadf_4patches)\n",
    "    \n",
    "    # make a list\n",
    "    x <- list(\"two patches\"=Two, \"three patches\"=Three, \"four patches\"=Four) # connects all data together\n",
    "    # converts the list to data frame\n",
    "    x <- data.frame(lapply(x, \"length<-\", max(lengths(x)))) # factor x so each vector(2 patches, 3 patches adn 4 patches)\n",
    "                                                            # has the same length\n",
    "\n",
    "    \n",
    "    # box plot and dots\n",
    "    plot <- ggplot(stack(x),aes(x=ind,y=values)) + \n",
    "                geom_boxplot(color=\"orange\") + \n",
    "                geom_dotplot(binaxis='y',stackdir='center',dotsize=0.75, color=\"skyblue\") +\n",
    "                theme(text = element_text(size=15)) + xlab(\"\")\n",
    "                ggtitle(title)\n",
    "    return(plot)\n",
    "}"
   ]
  },
  {
   "cell_type": "code",
   "execution_count": 66,
   "metadata": {
    "scrolled": true
   },
   "outputs": [
    {
     "name": "stderr",
     "output_type": "stream",
     "text": [
      "`stat_bindot()` using `bins = 30`. Pick better value with `binwidth`.\n"
     ]
    },
    {
     "data": {
      "image/png": "[encoded data removed]",
      "text/plain": [
       "plot without title"
      ]
     },
     "metadata": {},
     "output_type": "display_data"
    }
   ],
   "source": [
    "# output\n",
    "asymValues_Boxplot_multipatch(datadf)"
   ]
  },
  {
   "cell_type": "code",
   "execution_count": 67,
   "metadata": {},
   "outputs": [],
   "source": [
    "#output boxplot for multiple patches with temporal asymmetry\n",
    "# not working\n",
    "asymValues_Boxplot_multipatch2 <- function(datadf){ # add conditions\n",
    "    \n",
    "    # prepare the data\n",
    "    datadf_2patches <- subset(datadf, datadf$stimuli_count == 2) \n",
    "    Two <- asymValues_list2(datadf_2patches)\n",
    "    datadf_3patches <- subset(datadf, datadf$stimuli_count == 3) \n",
    "    Three <- asymValues_list2(datadf_3patches)\n",
    "    datadf_4patches <- subset(datadf, datadf$stimuli_count == 4) \n",
    "    Four <- asymValues_list2(datadf_4patches)\n",
    "    datadf_6patches <- subset(datadf, datadf$stimuli_count == 6) \n",
    "    Six <- asymValues_list2(datadf_6patches)\n",
    "    \n",
    "    # make a list\n",
    "    x <- list(\"two patches\"=Two, \"three patches\"=Three, \"four patches\"=Four, \"six patches\"=Six)# connects all data together\n",
    "    # converts the list to data frame\n",
    "    x <- data.frame(lapply(x, \"length<-\", max(lengths(x)))) # factor x so each vector(2 patches, 3 patches...)\n",
    "                                                            # has the same length\n",
    "\n",
    "    \n",
    "    # box plot and dots\n",
    "    plot <- ggplot(stack(x),aes(x=ind,y=values)) + \n",
    "                geom_boxplot(color=\"orange\") + \n",
    "                geom_dotplot(binaxis='y',stackdir='center',dotsize=0.75, color=\"skyblue\") +\n",
    "                theme(text = element_text(size=15)) + xlab(\"\")\n",
    "                ggtitle(title)\n",
    "    return(plot)\n",
    "}"
   ]
  },
  {
   "cell_type": "code",
   "execution_count": 68,
   "metadata": {},
   "outputs": [],
   "source": [
    "# output\n",
    "#asymValues_Boxplot_multipatch2(datadf)"
   ]
  },
  {
   "cell_type": "markdown",
   "metadata": {},
   "source": [
    "Temporal asymmetry"
   ]
  },
  {
   "cell_type": "code",
   "execution_count": 69,
   "metadata": {},
   "outputs": [],
   "source": [
    "dissimplot_temporal <- function(datadf,colors, ID ,dependent='color'){\n",
    "    \n",
    "    # refine data using function \"dissimdata_position \"\n",
    "    datatemp <- dissimdata2(datadf, colors)\n",
    "    \n",
    "   # labeling the plot eccentricity comparisons\n",
    "    label1 <- \"Subject ID:\"\n",
    "    label2 <- ID\n",
    "      \n",
    "    if(dependent == 'position'){ # use position to generate matrix (as a negative control)\n",
    "        plot <- ggplot(datatemp, aes(x = bin1, y = bin2)) +\n",
    "        theme(        axis.title.x = element_blank(), axis.title.y = element_blank(),\n",
    "                      plot.title = element_text(hjust = 0.5)) +\n",
    "                      scale_x_discrete(limits=c(1,2,3,4,5,6,7,8,9)) + scale_y_discrete(limits=c(1,2,3,4,5,6,7,8,9))\n",
    "    } else { # use the colors to generate the matrix\n",
    "        plot <- ggplot(datatemp, aes(x = Color_1, y = Color_2)) +\n",
    "        theme(axis.text.x = element_text(colour = colors), axis.text.y = element_text(colour = colors),\n",
    "                      axis.title.x = element_blank(), axis.title.y = element_blank(),\n",
    "                      plot.title = element_text(hjust = 0.5))\n",
    "    }\n",
    "    # stuff that's standard across plot types\n",
    "        plot <- plot + geom_raster(aes(fill = p_confidence)) +\n",
    "                labs(title = paste(label1, label2, sep = \" \")) +\n",
    "                scale_fill_gradientn(colours = c(\"white\",\"black\")) +\n",
    "                guides(fill=guide_legend(title=\"Dissimilarity\"))\n",
    "    return(plot)\n",
    "}"
   ]
  },
  {
   "cell_type": "code",
   "execution_count": 74,
   "metadata": {},
   "outputs": [],
   "source": [
    "df2mat_asymmetry_temporal <- function(datadf){\n",
    "    \n",
    "    datatemp <- dissimdata2(datadf, colors)\n",
    "    \n",
    "    # aggregate over the remaining columns of interest\n",
    "    nmdsdata <- aggregate(datatemp, by = list(datatemp$Color_1, datatemp$Color_2),FUN=mean)\n",
    "    nmdsdata$Color_1 <- nmdsdata$Group.1\n",
    "    nmdsdata$Color_2 <- nmdsdata$Group.2\n",
    "\n",
    "    nmdsdata = subset(nmdsdata, select = c(\"Color_1\",\"Color_2\",\"p_confidence\"))  # get rid of unnecessary columns\n",
    "    nmdsmatrix <- spread(nmdsdata, Color_1, p_confidence) # convert the dataframe to a matrix\n",
    "    #nmdsmatrix[is.na(nmdsmatrix)] <- 0  # change NA to 0 \n",
    "    nmdsmatrix <- data.matrix(nmdsmatrix) # chanee first column from colour to number(just some label stuff) \n",
    "    nmdsmatrix <- nmdsmatrix[,-1] # get rid of the labels in the first column, it messes up the code\n",
    "    matdf <- as.data.frame(nmdsmatrix - t(nmdsmatrix)) # calculate the asymmetry\n",
    "    #matdf$colorset <- c(abcolors) # adding additional column \"colorset\"\n",
    "    matdf$colorset <- c(colors) # adding additional column \"colorset\"\n",
    "    num_colors <- length(colors)\n",
    "    matdf <- matdf %>% gather(othercolor,asymmetry ,1:num_colors) # convert the matrix back to the data frame which has the \n",
    "                                                                  # column \"colortset\", \"othercolor\", \"asymmetry\"\n",
    "    return(matdf)\n",
    "}"
   ]
  },
  {
   "cell_type": "code",
   "execution_count": 75,
   "metadata": {},
   "outputs": [],
   "source": [
    "# plot an asymmetry matrix\n",
    "asymmetry_plot_temporal <- function(datadf, colors, ID){\n",
    "    \n",
    "    \n",
    "    # labeling the types\n",
    "    label1 <- \"Subject ID:\"\n",
    "    label2 <- ID\n",
    "    \n",
    "    datatemp <- df2mat_asymmetry_temporal(datadf)\n",
    "    \n",
    "    # refactor the levels so they can be plotted properly later if need be\n",
    "    datatemp$colorset <- with(datatemp, factor(colorset, levels = colors))\n",
    "    datatemp$othercolor <- with(datatemp, factor(othercolor, levels = colors))\n",
    "    \n",
    "    plot <- ggplot(datatemp, aes(x = colorset, y = othercolor)) +\n",
    "        theme(axis.text.x = element_text(colour = colors), axis.text.y = element_text(colour = colors),\n",
    "                      axis.title.x = element_blank(), axis.title.y = element_blank(),\n",
    "                      #axis.title.x = element_text(\"left\"), axis.title.y = element_text(\"right\"),\n",
    "                      plot.title = element_text(hjust = 0.5))\n",
    "    \n",
    "    # stuff that's standard across plot types\n",
    "        plot <- plot + geom_raster(aes(fill = asymmetry)) +\n",
    "                labs(title = paste(label1, label2, sep = \" to \")) +\n",
    "                scale_fill_gradientn(colours = c(\"blue\",\"white\",\"red\"), limits = c(-4,4)) +\n",
    "                guides(fill=guide_legend(title=\"Dissimilarity\\nAsymmetry\"))\n",
    "    return(plot)\n",
    "}"
   ]
  },
  {
   "cell_type": "code",
   "execution_count": 79,
   "metadata": {},
   "outputs": [],
   "source": [
    "# plot all subject with temporal asymmetry\n",
    "temp_asymplot <- function(datadf){\n",
    "tempdf <- subset(datadf, stimuli_count == 3 & response_type == \"after_1\" )\n",
    "subjectlist <- sort(unique(tempdf$subject)) # obtain a list of all the subjects\n",
    "\n",
    "par(mfrow = c(7, 2))  # Set up a 7 x 2 plotting space\n",
    "\n",
    "k = 0\n",
    "for (ID in subjectlist){ # go through subject by subject\n",
    "        k = k + 1\n",
    "        subjectdf = subset(tempdf, subject == ID) # select the ID for subject of interest\n",
    "        # plot white-black matrix\n",
    "        plot <- dissimplot_temporal(subjectdf,colors, ID,dependent='color')\n",
    "        print(plot) \n",
    "        # plot asymmetry matrix\n",
    "        #plot1 <- asymmetry_plot_temporal(subjectdf,colors, ID)\n",
    "        #print(plot1) \n",
    "    }\n",
    "return(k) # this can be deleted\n",
    "}"
   ]
  },
  {
   "cell_type": "code",
   "execution_count": 80,
   "metadata": {
    "scrolled": true
   },
   "outputs": [
    {
     "data": {
      "image/png": "[encoded data removed]",
      "text/plain": [
       "plot without title"
      ]
     },
     "metadata": {},
     "output_type": "display_data"
    },
    {
     "data": {
      "image/png": "[encoded data removed]",
      "text/plain": [
       "plot without title"
      ]
     },
     "metadata": {},
     "output_type": "display_data"
    },
    {
     "data": {
      "image/png": "[encoded data removed]",
      "text/plain": [
       "plot without title"
      ]
     },
     "metadata": {},
     "output_type": "display_data"
    },
    {
     "data": {
      "image/png": "[encoded data removed]",
      "text/plain": [
       "plot without title"
      ]
     },
     "metadata": {},
     "output_type": "display_data"
    },
    {
     "data": {
      "image/png": "[encoded data removed]",
      "text/plain": [
       "plot without title"
      ]
     },
     "metadata": {},
     "output_type": "display_data"
    },
    {
     "data": {
      "image/png": "[encoded data removed]",
      "text/plain": [
       "plot without title"
      ]
     },
     "metadata": {},
     "output_type": "display_data"
    },
    {
     "data": {
      "image/png": "[encoded data removed]",
      "text/plain": [
       "plot without title"
      ]
     },
     "metadata": {},
     "output_type": "display_data"
    },
    {
     "data": {
      "image/png": "[encoded data removed]",
      "text/plain": [
       "plot without title"
      ]
     },
     "metadata": {},
     "output_type": "display_data"
    },
    {
     "data": {
      "image/png": "[encoded data removed]",
      "text/plain": [
       "plot without title"
      ]
     },
     "metadata": {},
     "output_type": "display_data"
    },
    {
     "data": {
      "image/png": "[encoded data removed]",
      "text/plain": [
       "plot without title"
      ]
     },
     "metadata": {},
     "output_type": "display_data"
    },
    {
     "data": {
      "image/png": "[encoded data removed]",
      "text/plain": [
       "plot without title"
      ]
     },
     "metadata": {},
     "output_type": "display_data"
    },
    {
     "data": {
      "image/png": "[encoded data removed]",
      "text/plain": [
       "plot without title"
      ]
     },
     "metadata": {},
     "output_type": "display_data"
    },
    {
     "data": {
      "image/png": "[encoded data removed]",
      "text/plain": [
       "plot without title"
      ]
     },
     "metadata": {},
     "output_type": "display_data"
    },
    {
     "data": {
      "text/html": [
       "14"
      ],
      "text/latex": [
       "14"
      ],
      "text/markdown": [
       "14"
      ],
      "text/plain": [
       "[1] 14"
      ]
     },
     "metadata": {},
     "output_type": "display_data"
    },
    {
     "data": {
      "image/png": "[encoded data removed]",
      "text/plain": [
       "plot without title"
      ]
     },
     "metadata": {},
     "output_type": "display_data"
    }
   ],
   "source": [
    "temp_asymplot(datadf)"
   ]
  },
  {
   "cell_type": "code",
   "execution_count": null,
   "metadata": {},
   "outputs": [],
   "source": [
    "# plot all subject with temporal asymmetry\n",
    "# this would have clearer output but not working\n",
    "temp_asymplot <- function(datadf){\n",
    "# matrix to use to define the plot layout, specified manually for now\n",
    "hlay <- rbind (c(1,4,7,10,13),\n",
    "               c(2,5,8,11,14),\n",
    "               c(3,6,9,12,NA))\n",
    "testdf <- subset(datadf, stimuli_count == 3 & response_type == \"after_1\" )\n",
    "#testdf\n",
    "#testdf <- label_position(testdf, \"left2right\")\n",
    "\n",
    "#testdf <- dissimdata_position(testdf,colors, \"left2right\")\n",
    "\n",
    "subjectlist <- sort(unique(testdf$subject)) # obtain a list of all the subjects\n",
    "plot_list <- list()\n",
    "   k = 0\n",
    "    \n",
    "    for (ID in subjectlist){ # go through subject by subject\n",
    "        k = k + 1\n",
    "        subjectdf = subset(testdf, subject == ID) # select the ID for subject of interest\n",
    "        plot <- dissimplot3(subjectdf,colors,ID, dependent='color')\n",
    "        plot_list[[k]] <- as.grob(plot) # add it to the plot_list\n",
    "        \n",
    "    }\n",
    "  g <- arrangeGrob(grobs = plot_list, layout_matrix = hlay)\n",
    "return(g)\n",
    "    }"
   ]
  },
  {
   "cell_type": "code",
   "execution_count": null,
   "metadata": {},
   "outputs": [],
   "source": [
    "# this block gives error to stock the execution of the codes\n",
    "if(datadf$Position_1[1] == datadf$Position_2[1])\n",
    "    {output <- \"correct\"}\n",
    "else {\n",
    "    output <- \"incorrect\"\n",
    "}\n",
    "output"
   ]
  },
  {
   "cell_type": "markdown",
   "metadata": {},
   "source": [
    "Yusuke's code finish"
   ]
  },
  {
   "cell_type": "markdown",
   "metadata": {},
   "source": [
    "Some actual data cleaning"
   ]
  },
  {
   "cell_type": "code",
   "execution_count": null,
   "metadata": {},
   "outputs": [],
   "source": [
    "# function to throw out  participants who didn't finish\n",
    "remove_incomplete <- function(datadf,stimuli_number){\n",
    "    \n",
    "    subjectlist <- sort(unique(datadf$subject)) # obtain a list of all the subjects\n",
    "    \n",
    "    for (ID in subjectlist){ # go through subject by subject\n",
    "        if(as.character(datadf$response_type[1])=='after_1'){\n",
    "            trialnumber = stimuli_number*stimuli_number*2 #F to response, P to response\n",
    "        } else {\n",
    "            trialnumber = stimuli_number*stimuli_number*3 #FF, FP, PP\n",
    "        }\n",
    "        if ( nrow(subset(datadf, subject == ID)) != trialnumber){ # see if they have the appropriate trial numbers\n",
    "            print(paste(\"Subject\",ID,\"did not complete the task\",sep=' '))\n",
    "            datadf <- subset(datadf, subject != ID) # dump the subject\n",
    "        }\n",
    "    }\n",
    "    return(datadf)\n",
    "}"
   ]
  },
  {
   "cell_type": "code",
   "execution_count": null,
   "metadata": {},
   "outputs": [],
   "source": [
    "# actually throw out the subjects who didn't complete\n",
    "datadf <- remove_incomplete(datadf,stimuli_number)"
   ]
  },
  {
   "cell_type": "code",
   "execution_count": null,
   "metadata": {},
   "outputs": [],
   "source": [
    "# function to label participants who meet statistical cleaning assumptions\n",
    "label_noncompliant <- function(datadf,eccentricity,\n",
    "                               trace_cutoff=2,antitrace_cutoff=4,rt_cutoff=1000){\n",
    "    \n",
    "    if(eccentricity == 'Foveal'){\n",
    "        e_ind = 1\n",
    "    } else if (eccentricity == 'Peripheral'){\n",
    "        e_ind = 2\n",
    "    }\n",
    "    \n",
    "    subjectlist <- sort(unique(datadf$subject)) # obtain a list of all the subjects\n",
    "    \n",
    "    for (ID in subjectlist){ # go through subject by subject\n",
    "        subjectdf = subset(datadf, subject == ID) # select the ID for subject of interest \n",
    "        if(trace_avg(subjectdf)[e_ind] < trace_cutoff){\n",
    "            if(antitrace_avg(subjectdf)[e_ind] > antitrace_cutoff){\n",
    "                if(rt_avg(subjectdf) > rt_cutoff){\n",
    "                    datadf$noncompliant[datadf$subject == ID] = 0\n",
    "                } else {\n",
    "                    print(paste(\"Subject\",ID,\"median reaction time of:\",rt_avg(subjectdf),\"ms\",sep=' '))\n",
    "                    datadf$noncompliant[datadf$subject == ID] = 1\n",
    "                }\n",
    "            } else {\n",
    "                print(paste(\"Subject\",ID,\"had an antitrace of:\",antitrace_avg(subjectdf)[e_ind],sep=' '))\n",
    "                datadf$noncompliant[datadf$subject == ID] = 2\n",
    "            }\n",
    "        } else {\n",
    "            print(paste(\"Subject\",ID,\"had a trace of:\",trace_avg(subjectdf)[e_ind],sep=' '))\n",
    "            datadf$noncompliant[datadf$subject == ID] = 3\n",
    "        }\n",
    "    }\n",
    "    print(paste(length(unique(datadf$subject[datadf$noncompliant==0])),\"of\",length(unique(datadf$subject)),\n",
    "                \"were compliant\",sep=' '))\n",
    "    return(datadf)\n",
    "}"
   ]
  },
  {
   "cell_type": "code",
   "execution_count": null,
   "metadata": {
    "scrolled": true
   },
   "outputs": [],
   "source": [
    "datadf <- label_noncompliant(datadf,'Foveal')"
   ]
  },
  {
   "cell_type": "markdown",
   "metadata": {},
   "source": [
    "## Statistical Analysis"
   ]
  },
  {
   "cell_type": "markdown",
   "metadata": {},
   "source": [
    "#### Determine within-subject central and peripheral QDM correlation & significance"
   ]
  },
  {
   "cell_type": "code",
   "execution_count": null,
   "metadata": {},
   "outputs": [],
   "source": [
    "# return a list of the fovea matrix vs periphery matrix correlations for each subject\n",
    "\n",
    "fvp_list <- function(datadf){\n",
    "    \n",
    "    subjectlist <- sort(unique(datadf$subject)) # obtain a list of all the subjects\n",
    "    \n",
    "    correlation_list <- vector() # array to store the values in\n",
    "    \n",
    "    for (ID in subjectlist){ # go through subject by subject\n",
    "        subjectdf = subset(datadf, subject == ID) # select the ID for subject of interest\n",
    "        correlation_list <- c(correlation_list, (matrixcor(subjectdf)))\n",
    "    }\n",
    "    return(correlation_list)\n",
    "}"
   ]
  },
  {
   "cell_type": "code",
   "execution_count": null,
   "metadata": {},
   "outputs": [],
   "source": [
    "# shuffle the rows of a matrix\n",
    "shuffle_matrix <- function(matrix){\n",
    "    shuffled <- matrix[sample(nrow(matrix)),]\n",
    "    return(shuffled)\n",
    "}"
   ]
  },
  {
   "cell_type": "code",
   "execution_count": null,
   "metadata": {},
   "outputs": [],
   "source": [
    "# return a list of the fovea matrix vs. shuffled periphery matrix for each subject. Pick the # shuffles, default 1000.\n",
    "# returns Fisher-transformed correlations\n",
    "\n",
    "fvp_shuffled_list <- function(datadf, shuffle_num=1000){\n",
    "    \n",
    "    subjectlist <- sort(unique(datadf$subject)) # obtain a list of all the subjects\n",
    "    \n",
    "    \n",
    "    correlation_list <- vector() # array to store the values in\n",
    "    \n",
    "    for (ID in subjectlist){ # go through subject by subject\n",
    "        subjectdf = subset(datadf, subject == ID) # select the ID for subject of interest\n",
    "        \n",
    "        fmatrix <- df2mat(datadf, l2e('Foveal'), l2e('Foveal'))\n",
    "        pmatrix <- df2mat(datadf, l2e('Peripheral'), l2e('Peripheral'))\n",
    "        \n",
    "        temp_list <- vector()\n",
    "        for (i in 1:shuffle_num){ #shuffle the peripheral matrix, add values to temp list\n",
    "            pmatrix_shuffled <- shufflematrix(pmatrix)\n",
    "            temp_list <- c(temp_list, FisherZ(cor(c(fmatrix), c(pmatrix_shuffled), method = \"spearman\")))\n",
    "        }\n",
    "        \n",
    "        correlation_list <- c(correlation_list,mean(temp_list)) # add the average correlation to the list\n",
    "        }\n",
    "    return(correlation_list)\n",
    "}"
   ]
  },
  {
   "cell_type": "code",
   "execution_count": null,
   "metadata": {},
   "outputs": [],
   "source": [
    "# perform Mann-Whitney U test to compare the within-subject central and peripheral QDMs to randomly shuffled ones\n",
    "within_subject_test <- function(original_correlations,shuffled_correlations){\n",
    "    \n",
    "    wilcox.test(original_correlations,shuffled_correlations)\n",
    "}"
   ]
  },
  {
   "cell_type": "code",
   "execution_count": null,
   "metadata": {},
   "outputs": [],
   "source": [
    "# do the analysis"
   ]
  },
  {
   "cell_type": "markdown",
   "metadata": {},
   "source": [
    "#### Determine between-subject central to central QDM correlation & significance"
   ]
  },
  {
   "cell_type": "code",
   "execution_count": null,
   "metadata": {},
   "outputs": [],
   "source": [
    "# obtain the subject similarity matrix\n",
    "i_j_list <- function(datadf, eccentricity1=l2e('Foveal'), eccentricity2=l2e('Foveal')){\n",
    "    \n",
    "    datadf = subset(datadf, Circle_1 == eccentricity1)\n",
    "    datadf = subset(datadf, Circle_2 == eccentricity2)\n",
    "    \n",
    "    subjectlist <- sort(unique(datadf$subject)) # obtain a list of all the subjects\n",
    "    \n",
    "    correlation_list <- vector() # array to store the values in\n",
    "    \n",
    "    for (ID_i in subjectlist){ \n",
    "        for (ID_j in subjectlist){\n",
    "            if(ID_i != ID_j){\n",
    "                subjectdf_i = subset(datadf, subject == ID_i)\n",
    "                subjectdf_j = subset(datadf, subject == ID_j)\n",
    "\n",
    "                fmatrix_i <- df2mat(subjectdf_i, l2e('Foveal'), l2e('Foveal')) # get their fovea dissimilarity matrix\n",
    "                fmatrix_j <- df2mat(subjectdf_j, l2e('Foveal'), l2e('Foveal')) # get their fovea dissimilarity matrix\n",
    "\n",
    "                correlation_list <- c(correlation_list, cor(c(fmatrix_i), c(fmatrix_j), method = \"spearman\"))\n",
    "                }\n",
    "        }\n",
    "    }\n",
    "    return(correlation_list)\n",
    "}"
   ]
  },
  {
   "cell_type": "code",
   "execution_count": null,
   "metadata": {},
   "outputs": [],
   "source": [
    "# obtain a shuffled subject similarity matrix"
   ]
  },
  {
   "cell_type": "code",
   "execution_count": null,
   "metadata": {},
   "outputs": [],
   "source": [
    "# test where the correlation of the original SSM sits in comparison to the shuffled SSMs"
   ]
  },
  {
   "cell_type": "code",
   "execution_count": null,
   "metadata": {},
   "outputs": [],
   "source": [
    "# do the analysis"
   ]
  },
  {
   "cell_type": "markdown",
   "metadata": {},
   "source": [
    "#### Determine whether within-subject central-peripheral QDM correlation is equal to or greater than between-subject central-central QDMs"
   ]
  },
  {
   "cell_type": "code",
   "execution_count": null,
   "metadata": {},
   "outputs": [],
   "source": [
    "# blah"
   ]
  },
  {
   "cell_type": "code",
   "execution_count": null,
   "metadata": {},
   "outputs": [],
   "source": [
    "# do the analysis"
   ]
  },
  {
   "cell_type": "code",
   "execution_count": null,
   "metadata": {},
   "outputs": [],
   "source": [
    "# correlation plot\n",
    "corr_plot <- function(correlation_list,title='BLANK',xlabel='BLANK',f2z=FALSE){\n",
    "    df <- data.frame(correlation_list) # convert list to data frame\n",
    "    df[xlabel] = xlabel\n",
    "    \n",
    "    plot <- ggplot(df,aes(x=xlabel,y=correlation_list)) + \n",
    "                geom_boxplot() + \n",
    "                geom_dotplot(binaxis='y',stackdir='center',dotsize=0.75) +\n",
    "                theme(text = element_text(size=15)) + xlab(\"\")\n",
    "                ggtitle(title)\n",
    "    if(f2z){\n",
    "                plot <- plot + ylab(\"Fisher-Transformed Correlation (Spearman)\") + ylim(-1,2)\n",
    "    } else {\n",
    "                plot <- plot + ylab(\"Correlation (Spearman)\") + ylim(-0.5,1)\n",
    "\n",
    "    }\n",
    "    plot <- plot + geom_hline(yintercept=0, linetype=\"dashed\", color = \"blue\")\n",
    "    return(plot)\n",
    "}"
   ]
  },
  {
   "cell_type": "code",
   "execution_count": null,
   "metadata": {},
   "outputs": [],
   "source": [
    "within_between_plots <- function(datadf,savestr){\n",
    "    \n",
    "    fvp <- fvp_list(datadf)\n",
    "    i_j <- i_j_list(datadf)\n",
    "    \n",
    "    within_plot <- corr_plot(fvp,'Within-subject FvP','Within-subject FvP')\n",
    "    between_plot <- corr_plot(i_j,'Between-subject FvF','Between-subject FvF')\n",
    "    within_plot_fisher <- corr_plot(FisherZ(fvp),'Within-subject FvP','Within-subject FvP',TRUE)\n",
    "    between_plot_fisher <- corr_plot(FisherZ(i_j),'Between-subject FvF','Between-subject FvF',TRUE)\n",
    "\n",
    "    # save the plots\n",
    "    title <- textGrob(substr(savestr,nchar('data/')+1,nchar(savestr)))\n",
    "    g <- arrangeGrob(within_plot,between_plot,\n",
    "                     within_plot_fisher,between_plot_fisher,\n",
    "                        nrow = 2, ncol= 2,\n",
    "                    top = title)\n",
    "\n",
    "        # save it\n",
    "    ggsave(paste(savestr,\"_Subject_Plots/\",\"correlation plot comparisons_\",\"plot.png\",sep=''),g, height = 11, width = 10)\n",
    "}"
   ]
  },
  {
   "cell_type": "code",
   "execution_count": null,
   "metadata": {
    "scrolled": true
   },
   "outputs": [],
   "source": [
    "# plot within-subject FvP correlations against between-subject FvF correlations\n",
    "if(plot_within_between){within_between_plots(datadf,savestr)}"
   ]
  },
  {
   "cell_type": "markdown",
   "metadata": {},
   "source": [
    "Additional experimental summary graphs"
   ]
  },
  {
   "cell_type": "code",
   "execution_count": null,
   "metadata": {},
   "outputs": [],
   "source": [
    "# obtains a dataframe of traces for subjects\n",
    "trace_obtainer <- function(datadf,type=\"trace\"){\n",
    "    subjectlist <- sort(unique(datadf$subject)) # obtain a list of all the subjects\n",
    "    tracedf <- data.frame(subject=character(),ftrace=double(),ptrace=double()) # initialise an output df for the traces\n",
    "    for (ID in subjectlist){\n",
    "        tempdf <- subset(datadf, subject == ID)\n",
    "        if(type == 'antitrace'){\n",
    "            subject_trace <- antitrace_avg(tempdf)\n",
    "        } else if (type == 'difference'){\n",
    "            subject_trace <- unlist(antitrace_avg(tempdf),use.names=FALSE) - unlist(trace_avg(tempdf),use.names=FALSE)\n",
    "        }else{\n",
    "            subject_trace <- trace_avg(tempdf)\n",
    "        }\n",
    "        row_df <- data.frame(ID, as.numeric(subject_trace[1]),as.numeric(subject_trace[2]))\n",
    "        names(row_df) <- c(\"subject\",\"Fovea x Fovea\",\"Periphery x Periphery\")\n",
    "        tracedf<- rbind(tracedf,row_df)\n",
    "    }\n",
    "    return(tracedf)\n",
    "}"
   ]
  },
  {
   "cell_type": "code",
   "execution_count": null,
   "metadata": {},
   "outputs": [],
   "source": [
    "# plot the traces for the subjects individually\n",
    "trace_plot <- function(datadf,type='trace',grouped=TRUE){\n",
    "    \n",
    "    datadf$subject <- as.character(datadf$subject) # necessary for visualisation\n",
    "    \n",
    "    if(type == 'antitrace'){\n",
    "        trace_df <- trace_obtainer(datadf,'antitrace')\n",
    "    } else if (type == 'difference'){\n",
    "        trace_df <- trace_obtainer(datadf,'difference')\n",
    "    } else {\n",
    "        trace_df <- trace_obtainer(datadf)\n",
    "    }\n",
    "    \n",
    "    \n",
    "    tracedf <- gather(trace_df, key = \"eccentricity\",value = \"trace\", 2:3)\n",
    "    \n",
    "    if(grouped){\n",
    "        plot <- ggplot(tracedf, aes(x = eccentricity, y=trace)) +\n",
    "        geom_boxplot() + geom_dotplot(binaxis='y',stackdir='center',dotsize=0.5) +\n",
    "        theme(legend.position = \"none\")\n",
    "    } else {\n",
    "        plot <- ggplot(tracedf, aes(x = eccentricity, y=trace, group = subject, color = subject)) +\n",
    "        geom_line() + theme(legend.position = \"none\")\n",
    "    }\n",
    "    \n",
    "    if(type == 'antitrace'){\n",
    "        plot <- plot + ylim(0,7) + ylab(\"Mean Physically Maximally Distinct Stimulus Similarity\")\n",
    "    } else if (type == 'difference'){\n",
    "        plot <- plot + ylim(-6,6) + ylab(\"Distinct - Identical\")\n",
    "    } else {\n",
    "        plot <- plot + ylim(0,7) + ylab(\"Mean Physically Identical Stimulus Similarity\")\n",
    "    }\n",
    "    \n",
    "    return(plot)\n",
    "}"
   ]
  },
  {
   "cell_type": "markdown",
   "metadata": {},
   "source": [
    "### Plot summary of all subjects"
   ]
  },
  {
   "cell_type": "markdown",
   "metadata": {},
   "source": [
    "#### Individual subjects"
   ]
  },
  {
   "cell_type": "code",
   "execution_count": null,
   "metadata": {},
   "outputs": [],
   "source": [
    "# plot summary data for all the subjects individually\n",
    "allsubjectsplot <- function(datadf,savestr){\n",
    "    \n",
    "    subjectlist <- sort(unique(datadf$subject)) # obtain a list of all the subjects\n",
    "\n",
    "    dir.create(paste(savestr,\"Subject_Plots\",sep='_')) # make a new folder to store the subject plots in\n",
    "\n",
    "    for (subjectid in subjectlist){\n",
    "        print(paste(\"Processing subject:\",subjectid,sep=' '))\n",
    "        subjectplot(datadf, subjectid,savestr)\n",
    "    }\n",
    "}"
   ]
  },
  {
   "cell_type": "code",
   "execution_count": null,
   "metadata": {},
   "outputs": [],
   "source": [
    "# make a plot of the key summary data for a subject\n",
    "subjectplot <- function(datadf, subjectid,savestr){\n",
    "    \n",
    "    subjectdf = subset(datadf, subject == subjectid) # select the ID for subject of interest\n",
    "    \n",
    "    if(subjectdf$response_type[1] != 'after_1'){\n",
    "        FP = TRUE\n",
    "    } else {\n",
    "        FP = FALSE\n",
    "    }\n",
    "    \n",
    "    # FF Matrix plot\n",
    "    FFmatrix <- dissimplot(dissimdata(subjectdf, colors, l2e('Foveal'), l2e('Foveal')),colors)\n",
    "    \n",
    "    \n",
    "    \n",
    "    # PP Matrix plot\n",
    "    PPmatrix <- dissimplot(dissimdata(subjectdf, colors, l2e('Peripheral'), l2e('Peripheral')),colors)\n",
    "    \n",
    "    # FF CMDS plot\n",
    "    FFcmds <-  cmdsplot(cmdsfit(mat2dist(df2mat(subjectdf,l2e('Foveal'), l2e('Foveal')))), \n",
    "                        abcolors, abcolors, l2e('Foveal'), l2e('Foveal'))\n",
    "    \n",
    "    \n",
    "    \n",
    "    # PP CMDS plot\n",
    "    PPcmds <-  cmdsplot(cmdsfit(mat2dist(df2mat(subjectdf,l2e('Peripheral'), l2e('Peripheral')))), \n",
    "                        abcolors, abcolors, l2e('Peripheral'), l2e('Peripheral'))\n",
    "    \n",
    "    # FF nMDS plot\n",
    "    FFnmds <-  nmdsplot(nmdsfit(mat2dist(df2mat(subjectdf,l2e('Foveal'), l2e('Foveal')))), \n",
    "                        abcolors, abcolors, l2e('Foveal'), l2e('Foveal'))\n",
    "    \n",
    "    \n",
    "    \n",
    "    # PP nMDS plot\n",
    "    PPnmds <-  nmdsplot(nmdsfit(mat2dist(df2mat(subjectdf,l2e('Peripheral'), l2e('Peripheral')))), \n",
    "                        abcolors, abcolors, l2e('Peripheral'), l2e('Peripheral'))\n",
    "    \n",
    "    # Similarity judgements\n",
    "    simplot <- simhistplot(subjectdf)\n",
    "    # Reaction times\n",
    "    reactionplot <- rsplot(subjectdf)\n",
    "    # summary plot\n",
    "    rainplot <- rsplot_raincloud(subjectdf,'log')\n",
    "    \n",
    "    # trace plots\n",
    "    traceplot <- trace_plot(subjectdf)\n",
    "    antiplot <- trace_plot(subjectdf,'antitrace')\n",
    "    differenceplot <- trace_plot(subjectdf,'difference')\n",
    "    \n",
    "    # asymmetry plot\n",
    "    asymplot <- asymmetry_plot(subjectdf,l2e('Foveal'),l2e('Foveal'),colors)\n",
    "    \n",
    "    # title\n",
    "    if(subjectdf$noncompliant[1]){\n",
    "        title <- textGrob(as.character(subjectid),gp=gpar(col=\"red\",fontsize=35))\n",
    "    } else {\n",
    "        title <- textGrob(as.character(subjectid),gp=gpar(col=\"blue\",fontsize=35))\n",
    "    }\n",
    "    \n",
    "    if(FP){\n",
    "        \n",
    "        # FP Matrix plot\n",
    "        FPmatrix <- dissimplot(dissimdata(subjectdf, colors, l2e('Foveal'), l2e('Peripheral')),colors)\n",
    "        \n",
    "        # FP CMDS plot\n",
    "        FPcmds <-  cmdsplot(cmdsfit(mat2dist(df2mat(subjectdf,l2e('Foveal'), l2e('Peripheral')))), \n",
    "                        abcolors, abcolors, l2e('Foveal'), l2e('Peripheral'))\n",
    "        \n",
    "        # FP nMDS plot\n",
    "        FPnmds <-  nmdsplot(nmdsfit(mat2dist(df2mat(subjectdf,l2e('Foveal'), l2e('Peripheral')))), \n",
    "                        abcolors, abcolors, l2e('Foveal'), l2e('Peripheral'))\n",
    "        \n",
    "        # put all the plots together\n",
    "        g <- arrangeGrob(FFmatrix, FPmatrix, PPmatrix, simplot,\n",
    "                    FFcmds, FPcmds, PPcmds, reactionplot,\n",
    "                    FFnmds, FPnmds, PPnmds, rainplot,\n",
    "                    traceplot, antiplot, differenceplot, asymplot,\n",
    "                    nrow = 4, ncol=4, top = title)\n",
    "        \n",
    "        stimuli <- as.character(subjectdf$stimuli_count[1])\n",
    "        exp_type <- as.character(subjectdf$response_type[1])\n",
    "        ggsave(paste(savestr,\"_Subject_Plots/\",stimuli,\"_stimuli_\",exp_type,\"_ID_\",subjectid,\"_plot.png\",\n",
    "                 sep=''),g, height = 40, width = 40)\n",
    "    } else {\n",
    "        # put all the plots together\n",
    "        g <- arrangeGrob(FFmatrix, PPmatrix, simplot, traceplot,\n",
    "                    FFcmds, PPcmds, reactionplot, antiplot,\n",
    "                    FFnmds, PPnmds, rainplot, asymplot,\n",
    "                    nrow = 3, ncol=4, top = title)\n",
    "        \n",
    "        stimuli <- as.character(subjectdf$stimuli_count[1])\n",
    "        exp_type <- as.character(subjectdf$response_type[1])\n",
    "        ggsave(paste(savestr,\"_Subject_Plots/\",stimuli,\"_stimuli_\",exp_type,\"_ID_\",subjectid,\"_plot.png\",\n",
    "                 sep=''),g, height = 30, width = 40)\n",
    "    }\n",
    "}"
   ]
  },
  {
   "cell_type": "code",
   "execution_count": null,
   "metadata": {
    "scrolled": true
   },
   "outputs": [],
   "source": [
    "if(plotsubjects){\n",
    "    allsubjectsplot(datadf,savestr)\n",
    "}"
   ]
  },
  {
   "cell_type": "markdown",
   "metadata": {},
   "source": [
    "### Summary plots"
   ]
  },
  {
   "cell_type": "code",
   "execution_count": null,
   "metadata": {},
   "outputs": [],
   "source": [
    "dir.create(paste(savestr,\"Summary_Plots\",sep='_'))"
   ]
  },
  {
   "cell_type": "code",
   "execution_count": null,
   "metadata": {},
   "outputs": [],
   "source": [
    "# matrix to use to define the plot layout, specified manually for now\n",
    "hlay <- rbind (c(1,4,7,10),\n",
    "               c(2,5,8,11),\n",
    "               c(3,6,9,12))"
   ]
  },
  {
   "cell_type": "code",
   "execution_count": null,
   "metadata": {},
   "outputs": [],
   "source": [
    "# correlations summary plot\n",
    "across_experiment_plot <- function(datadf,savestr,laymatrix,response_type_list,response_names,dependent,clean=FALSE){\n",
    "    \n",
    "    dir.create(paste(savestr,\"Overall_Summary_Plots\",sep='_'))\n",
    "    \n",
    "    stimuli_list <- sort(unique(datadf$stimuli_count))\n",
    "    plot_list <- list()\n",
    "    \n",
    "    if(clean){\n",
    "        datadf <- subset(datadf, noncompliant == 0)\n",
    "    }\n",
    "    \n",
    "    # make all the plots\n",
    "    k = 0\n",
    "    for (stimulus in stimuli_list){\n",
    "        for (response in response_type_list){\n",
    "            k = k + 1\n",
    "            if(stimulus == 2){ # 2 stimuli doesn't have any cueing, so it gets an exception\n",
    "                tempdf <- subset(datadf, stimuli_count == 2)\n",
    "            } else {\n",
    "                tempdf <- subset(datadf, stimuli_count == stimulus & response_type == response)\n",
    "            }\n",
    "            \n",
    "            # make the specific plot\n",
    "            if(dependent=='correlation'){\n",
    "                fvp <- fvp_list(tempdf)\n",
    "                plot <- corr_plot(fvp,'Within-subject FvP','Within-subject FvP')\n",
    "                title <- textGrob(\"CORRELATION\", gp=gpar(fontsize=35))\n",
    "            } else if (dependent=='RT'){\n",
    "                plot <- rsplot_summary(tempdf)\n",
    "                title <- textGrob(\"REACTION TIME\", gp=gpar(fontsize=35))\n",
    "            } else if (dependent=='dissimilarity'){\n",
    "                plot <- simhistplot_summary(tempdf)\n",
    "                title <- textGrob(\"DISSIMILARITY\", gp=gpar(fontsize=35))\n",
    "            } else if (dependent=='trace'){\n",
    "                plot <- trace_plot(tempdf)\n",
    "                title <- textGrob(\"TRACE\", gp=gpar(fontsize=35))\n",
    "            } else if (dependent=='antitrace'){\n",
    "                plot <- trace_plot(tempdf,'antitrace')\n",
    "                title <- textGrob(\"ANTITRACE\", gp=gpar(fontsize=35))\n",
    "            } else if (dependent=='difference'){\n",
    "                plot <- trace_plot(tempdf,'difference')\n",
    "                title <- textGrob(\"ANTITRACE - TRACE\", gp=gpar(fontsize=35))\n",
    "            } else if (dependent=='asymmetry_matrix'){\n",
    "                plot <- asymmetry_plot(tempdf,l2e('Foveal'),l2e('Foveal'),colors)\n",
    "                title <- textGrob(\"SIMILARITY ASYMMETRY MATRIX\", gp=gpar(fontsize=35))\n",
    "            } else if (dependent == 'trace_by_trial'){\n",
    "                plot <- trace_by_trial_plot(tempdf,'boxplot')\n",
    "                title <- textGrob(\"Trace by Trial\", gp=gpar(fontsize=35))\n",
    "            }\n",
    "            \n",
    "            \n",
    "            plot <- plot + xlab(paste(stimulus,response,sep=' ')) #  add a label\n",
    "            if(stimulus == 2 && k != 1){ # don't plot after-cueing for 2 cue stimuli\n",
    "                plot <- ggplot() + geom_blank() + theme_void()\n",
    "            } else if (dependent == 'asymmetry_matrix' && response != 'after_1'){\n",
    "                plot <- ggplot() + geom_blank() + theme_void()\n",
    "            }\n",
    "            plot_list[[k]] <- as.grob(plot) # add it to the plot_list\n",
    "        }\n",
    "        \n",
    "    }\n",
    "    \n",
    "    # save the plots\n",
    "    yaxis <- textGrob(\"Cueing Type\", gp=gpar(fontsize=30), rot=90)\n",
    "    xaxis <- textGrob(\"Stimuli\", gp=gpar(fontsize=30))\n",
    "    \n",
    "    g <- arrangeGrob(grobs = plot_list, ncol = length(stimuli_list),nrow = length(response_type_list),\n",
    "                     layout_matrix = hlay)\n",
    "    \n",
    "    g_rowcol_names <- rbind(tableGrob(t(stimuli_list), theme = ttheme_minimal(), rows = \"\"),\n",
    "                cbind(tableGrob(response_names, theme = ttheme_minimal()),\n",
    "                      g, size = \"last\"), size = \"last\")\n",
    "    \n",
    "    g_titled <- arrangeGrob(g_rowcol_names, top = title, left = yaxis, bottom = xaxis)\n",
    "    \n",
    "    if(clean){\n",
    "        savename <- paste(savestr,\"_Overall_Summary_Plots/\",dependent,\"_CLEAN\",\"_plot.png\",sep='')\n",
    "        ggsave(savename,g_titled, height = 20, width = 30)\n",
    "    }else{\n",
    "        savename <- paste(savestr,\"_Overall_Summary_Plots/\",dependent,\"_plot.png\",sep='')\n",
    "        ggsave(savename,g_titled, height = 20, width = 30)\n",
    "    }\n",
    "    \n",
    "    return(g_titled)\n",
    "}"
   ]
  },
  {
   "cell_type": "code",
   "execution_count": null,
   "metadata": {},
   "outputs": [],
   "source": [
    "across_experiment_plot(datadf,savestr,hlay,response_type_list,response_names,'trace_by_trial')\n",
    "across_experiment_plot(datadf,savestr,hlay,response_type_list,response_names,'trace_by_trial',TRUE)"
   ]
  },
  {
   "cell_type": "markdown",
   "metadata": {},
   "source": [
    "#### Across all experiments"
   ]
  },
  {
   "cell_type": "code",
   "execution_count": null,
   "metadata": {},
   "outputs": [],
   "source": [
    "across_all <- function(datadf,savestr,laymatrix,response_type_list,response_names){\n",
    "    across_experiment_plot(datadf,savestr,hlay,response_type_list,response_names,'RT')\n",
    "    across_experiment_plot(datadf,savestr,hlay,response_type_list,response_names,'dissimilarity')\n",
    "    across_experiment_plot(datadf,savestr,hlay,response_type_list,response_names,'asymmetry_matrix')\n",
    "    across_experiment_plot(datadf,savestr,hlay,response_type_list,response_names,'correlation')\n",
    "    across_experiment_plot(datadf,savestr,hlay,response_type_list,response_names,'trace')\n",
    "    across_experiment_plot(datadf,savestr,hlay,response_type_list,response_names,'antitrace')\n",
    "    across_experiment_plot(datadf,savestr,hlay,response_type_list,response_names,'difference')\n",
    "    \n",
    "    across_experiment_plot(datadf,savestr,hlay,response_type_list,response_names,'RT',TRUE)\n",
    "    across_experiment_plot(datadf,savestr,hlay,response_type_list,response_names,'dissimilarity',TRUE)\n",
    "    across_experiment_plot(datadf,savestr,hlay,response_type_list,response_names,'asymmetry_matrix',TRUE)\n",
    "    across_experiment_plot(datadf,savestr,hlay,response_type_list,response_names,'correlation',TRUE)\n",
    "    across_experiment_plot(datadf,savestr,hlay,response_type_list,response_names,'trace',TRUE)\n",
    "    across_experiment_plot(datadf,savestr,hlay,response_type_list,response_names,'antitrace',TRUE)\n",
    "    across_experiment_plot(datadf,savestr,hlay,response_type_list,response_names,'difference',TRUE)\n",
    "}"
   ]
  },
  {
   "cell_type": "code",
   "execution_count": null,
   "metadata": {},
   "outputs": [],
   "source": [
    "if(across){\n",
    "    across_all(datadf,savestr,hlay,response_type_list,response_names)\n",
    "}"
   ]
  },
  {
   "cell_type": "markdown",
   "metadata": {},
   "source": [
    "#### Individual experiment summaries"
   ]
  },
  {
   "cell_type": "code",
   "execution_count": null,
   "metadata": {},
   "outputs": [],
   "source": [
    "# generate a summary plot of all the collected data from all the subjects in the experiment\n",
    "# NEED TO FINISH THIS\n",
    "expsummaryplot <- function(datadf,savestr,clean=FALSE){\n",
    "    \n",
    "    dir.create(paste(savestr,\"Exp_Summary_Plots/\",sep='_'))\n",
    "    \n",
    "    if(clean){\n",
    "        datadf <- subset(datadf, noncompliant == 0)\n",
    "    }\n",
    "    \n",
    "    stimuli_list <- sort(unique(datadf$stimuli_count))\n",
    "    \n",
    "    # make all the plots\n",
    "    k = 0\n",
    "    for (stimulus in stimuli_list){\n",
    "        for (response in response_type_list){\n",
    "            \n",
    "            k = k + 1\n",
    "            if(stimulus == 2){ # 2 stimuli doesn't have any cueing, so it gets an exception\n",
    "                tempdf <- subset(datadf, stimuli_count == 2)\n",
    "            } else {\n",
    "                tempdf <- subset(datadf, stimuli_count == stimulus & response_type == response)\n",
    "            }\n",
    "            \n",
    "            if(response != 'after_1'){\n",
    "                FP = TRUE\n",
    "            } else {\n",
    "                FP = FALSE\n",
    "            }\n",
    "            \n",
    "            # make the specific summary plot\n",
    "           \n",
    "            # MATRICES\n",
    "            everyonedata <- aggregate_df(tempdf)\n",
    "            \n",
    "            stim_time <- everyonedata$stim_display_time[1]\n",
    "            gap <- everyonedata$stim_cue_gap[1]\n",
    "            cue_time <- everyonedata$cue_display_time[1]\n",
    "            \n",
    "            \n",
    "            # FF Matrix plot\n",
    "            FFmatrix <- dissimplot(dissimdata(everyonedata, colors, l2e('Foveal'), l2e('Foveal')),colors)\n",
    "\n",
    "            # FP Matrix plot\n",
    "            FPmatrix <- dissimplot(dissimdata(everyonedata, colors, l2e('Foveal'), l2e('Peripheral')),colors)\n",
    "\n",
    "            # PP Matrix plot\n",
    "            PPmatrix <- dissimplot(dissimdata(everyonedata, colors, l2e('Peripheral'), l2e('Peripheral')),colors)\n",
    "\n",
    "            # CMDS\n",
    "            # FF CMDS plot\n",
    "            FFcmds <-  cmdsplot(cmdsfit(mat2dist(df2mat(everyonedata,l2e('Foveal'), l2e('Foveal')))), \n",
    "                                abcolors, abcolors, l2e('Foveal'), l2e('Foveal'))\n",
    "\n",
    "            FPcmds <-  cmdsplot(cmdsfit(mat2dist(df2mat(everyonedata,l2e('Foveal'), l2e('Peripheral')))), \n",
    "                                abcolors, abcolors, l2e('Foveal'), l2e('Peripheral'))\n",
    "\n",
    "            # FF CMDS plot\n",
    "            PPcmds <-  cmdsplot(cmdsfit(mat2dist(df2mat(everyonedata,l2e('Peripheral'), l2e('Peripheral')))), \n",
    "                                abcolors, abcolors, l2e('Peripheral'), l2e('Peripheral'))\n",
    "            # NMDS\n",
    "            # FF nMDS plot\n",
    "            FFnmds <-  nmdsplot(nmdsfit(mat2dist(df2mat(everyonedata,l2e('Foveal'), l2e('Foveal')))), \n",
    "                                abcolors, abcolors, l2e('Foveal'), l2e('Foveal'))\n",
    "\n",
    "            # FP nMDS plot\n",
    "            FPnmds <-  nmdsplot(nmdsfit(mat2dist(df2mat(everyonedata,l2e('Foveal'), l2e('Peripheral')))), \n",
    "                                abcolors, abcolors, l2e('Foveal'), l2e('Peripheral'))\n",
    "\n",
    "            # PP nMDS plot\n",
    "            PPnmds <-  nmdsplot(nmdsfit(mat2dist(df2mat(everyonedata,l2e('Peripheral'), l2e('Peripheral')))), \n",
    "                                abcolors, abcolors, l2e('Peripheral'), l2e('Peripheral'))\n",
    "\n",
    "            # AUXILIARY plots\n",
    "            # Similarity judgements\n",
    "            simplot <- simhistplot_summary(tempdf)\n",
    "            # Reaction times v1\n",
    "            reactionplot <- rsplot_summary(tempdf)\n",
    "            # summary plot\n",
    "            raincloudplot <- rsplot_raincloud(tempdf,'log')\n",
    "\n",
    "            # within_between_plots\n",
    "            fvp <- fvp_list(tempdf)\n",
    "            i_j <- i_j_list(tempdf)\n",
    "\n",
    "            within_plot <- corr_plot(fvp,'Within-subject FvP','Within-subject FvP')\n",
    "            between_plot <- corr_plot(i_j,'Between-subject FvF','Between-subject FvF')\n",
    "            #within_plot_fisher <- corr_plot(FisherZ(fvp),'Within-subject FvP','Within-subject FvP',TRUE)\n",
    "            #between_plot_fisher <- corr_plot(FisherZ(i_j),'Between-subject FvF','Between-subject FvF',TRUE)\n",
    "\n",
    "            # MORE PLOTS\n",
    "            # trace plots\n",
    "            traceplot <- trace_plot(tempdf)\n",
    "            antiplot <- trace_plot(tempdf,'antitrace')\n",
    "            differenceplot <- trace_plot(tempdf,'difference')\n",
    "            \n",
    "            N <- length(unique(tempdf$subject)) # get number of subjects\n",
    "            \n",
    "            # save the plots\n",
    "            if(clean){\n",
    "                title <- textGrob(paste(stimulus,response,\n",
    "                                    \"stim_duration\",stim_time,\"gap\",gap,\"cue_duration\",cue_time,\n",
    "                                    N,\"subjects\",\"CLEAN\",\n",
    "                                    sep=\"_\"), gp=gpar(fontsize=35))\n",
    "            }else{\n",
    "                title <- textGrob(paste(stimulus,response,\n",
    "                                    \"stim_duration\",stim_time,\"gap\",gap,\"cue_duration\",cue_time,\n",
    "                                    N,\"subjects\",\n",
    "                                    sep=\"_\"), gp=gpar(fontsize=35))\n",
    "            }\n",
    "            \n",
    "            # put it all together\n",
    "            if(FP){\n",
    "                \n",
    "                g <- arrangeGrob(FFmatrix, FPmatrix, PPmatrix, within_plot, between_plot,\n",
    "                                FFcmds,FPcmds, PPcmds, traceplot, antiplot,\n",
    "                                FFnmds,FPnmds, PPnmds, raincloudplot, differenceplot,\n",
    "                                simplot, reactionplot, \n",
    "                                nrow = 4, ncol=5, top = title)\n",
    "            } else {\n",
    "                \n",
    "                # asymmetry plot\n",
    "                asymplot <- asymmetry_plot(tempdf,l2e('Foveal'),l2e('Foveal'),colors)\n",
    "                \n",
    "                g <- arrangeGrob(FFmatrix,  PPmatrix, within_plot, between_plot, \n",
    "                                FFcmds, PPcmds, traceplot,  antiplot,\n",
    "                                FFnmds, PPnmds, differenceplot, asymplot,\n",
    "                                simplot, raincloudplot, reactionplot,\n",
    "                                nrow = 4, ncol=4, top = title)\n",
    "\n",
    "                \n",
    "            }\n",
    "                # save it\n",
    "            if(clean){\n",
    "                savename <- paste(savestr,\"_Exp_Summary_Plots/\",stimulus,\"_\",response,\n",
    "                         \"_Summary_\",N,\"_subjects\",\"_CLEAN\",\"_plot.png\",sep='')\n",
    "            }else {\n",
    "                savename <- paste(savestr,\"_Exp_Summary_Plots/\",stimulus,\"_\",response,\n",
    "                         \"_Summary_\",N,\"_subjects\",\"_plot.png\",sep='')\n",
    "            }\n",
    "                \n",
    "                print(savename)\n",
    "                ggsave(savename,g, height = 38, width = 48)\n",
    "        }\n",
    "            \n",
    "    }\n",
    "        \n",
    "}   "
   ]
  },
  {
   "cell_type": "markdown",
   "metadata": {},
   "source": [
    "### Across the entire population "
   ]
  },
  {
   "cell_type": "code",
   "execution_count": null,
   "metadata": {},
   "outputs": [],
   "source": [
    "# entire population plot\n",
    "population_plot <- function(datadf,savestr,clean=FALSE){\n",
    "    \n",
    "    dir.create(paste(savestr,\"Population_Summary_Plots/\",sep='_'))\n",
    "    \n",
    "    if(clean){\n",
    "        datadf <- subset(datadf, noncompliant == 0)\n",
    "    }\n",
    "    \n",
    "    # MATRICES\n",
    "    everyonedata <- aggregate_df(datadf)\n",
    "\n",
    "    # FF Matrix plot\n",
    "    FFmatrix <- dissimplot(dissimdata(everyonedata, colors, l2e('Foveal'), l2e('Foveal')),colors)\n",
    "\n",
    "    # FP Matrix plot\n",
    "    FPmatrix <- dissimplot(dissimdata(everyonedata, colors, l2e('Foveal'), l2e('Peripheral')),colors)\n",
    "\n",
    "    # PP Matrix plot\n",
    "    PPmatrix <- dissimplot(dissimdata(everyonedata, colors, l2e('Peripheral'), l2e('Peripheral')),colors)\n",
    "\n",
    "    # CMDS\n",
    "    # FF CMDS plot\n",
    "    FFcmds <-  cmdsplot(cmdsfit(mat2dist(df2mat(everyonedata,l2e('Foveal'), l2e('Foveal')))), \n",
    "                        abcolors, abcolors, l2e('Foveal'), l2e('Foveal'))\n",
    "\n",
    "    FPcmds <-  cmdsplot(cmdsfit(mat2dist(df2mat(everyonedata,l2e('Foveal'), l2e('Peripheral')))), \n",
    "                        abcolors, abcolors, l2e('Foveal'), l2e('Peripheral'))\n",
    "\n",
    "    # FF CMDS plot\n",
    "    PPcmds <-  cmdsplot(cmdsfit(mat2dist(df2mat(everyonedata,l2e('Peripheral'), l2e('Peripheral')))), \n",
    "                        abcolors, abcolors, l2e('Peripheral'), l2e('Peripheral'))\n",
    "    # NMDS\n",
    "    # FF nMDS plot\n",
    "    FFnmds <-  nmdsplot(nmdsfit(mat2dist(df2mat(everyonedata,l2e('Foveal'), l2e('Foveal')))), \n",
    "                        abcolors, abcolors, l2e('Foveal'), l2e('Foveal'))\n",
    "\n",
    "    # FP nMDS plot\n",
    "    FPnmds <-  nmdsplot(nmdsfit(mat2dist(df2mat(everyonedata,l2e('Foveal'), l2e('Peripheral')))), \n",
    "                        abcolors, abcolors, l2e('Foveal'), l2e('Peripheral'))\n",
    "\n",
    "    # PP nMDS plot\n",
    "    PPnmds <-  nmdsplot(nmdsfit(mat2dist(df2mat(everyonedata,l2e('Peripheral'), l2e('Peripheral')))), \n",
    "                        abcolors, abcolors, l2e('Peripheral'), l2e('Peripheral'))\n",
    "\n",
    "    # AUXILIARY plots\n",
    "    # Similarity judgements\n",
    "    simplot <- simhistplot_summary(datadf)\n",
    "    # Reaction times v1\n",
    "    reactionplot <- rsplot_summary(datadf)\n",
    "    # summary plot\n",
    "    raincloudplot <- rsplot_raincloud(datadf,'log')\n",
    "\n",
    "    # within_between_plots\n",
    "    fvp <- fvp_list(datadf)\n",
    "    i_j <- i_j_list(datadf)\n",
    "\n",
    "    within_plot <- corr_plot(fvp,'Within-subject FvP','Within-subject FvP')\n",
    "    between_plot <- corr_plot(i_j,'Between-subject FvF','Between-subject FvF')\n",
    "    #within_plot_fisher <- corr_plot(FisherZ(fvp),'Within-subject FvP','Within-subject FvP',TRUE)\n",
    "    #between_plot_fisher <- corr_plot(FisherZ(i_j),'Between-subject FvF','Between-subject FvF',TRUE)\n",
    "\n",
    "    # MORE PLOTS\n",
    "    # trace plots\n",
    "    traceplot <- trace_plot(datadf)\n",
    "    antiplot <- trace_plot(datadf,'antitrace')\n",
    "    differenceplot <- trace_plot(datadf,'difference')\n",
    "\n",
    "    N <- length(unique(datadf$subject)) # get number of subjects\n",
    "\n",
    "    # save the plots\n",
    "    if(clean){\n",
    "        title <- textGrob(paste(\"Population\",\n",
    "                            N,\"subjects\",\"CLEAN\",\n",
    "                            sep=\"_\"), gp=gpar(fontsize=35))\n",
    "    }else{\n",
    "        title <- textGrob(paste(\"Population\",\n",
    "                            N,\"subjects\",\n",
    "                            sep=\"_\"), gp=gpar(fontsize=35))\n",
    "    }\n",
    "    \n",
    "    \n",
    "    g <- arrangeGrob(FFmatrix, FPmatrix, PPmatrix, within_plot, between_plot,\n",
    "                                FFcmds,FPcmds, PPcmds, traceplot, antiplot,\n",
    "                                FFnmds,FPnmds, PPnmds, raincloudplot, differenceplot,\n",
    "                                simplot, reactionplot, \n",
    "                                nrow = 4, ncol=5, top = title)\n",
    "    \n",
    "     # save it\n",
    "    if(clean){\n",
    "        savename <- paste(savestr,\"_Exp_Summary_Plots/\",\n",
    "                 \"_Summary_\",N,\"_subjects\",\"_CLEAN\",\"_plot.png\",sep='')\n",
    "    }else {\n",
    "        savename <- paste(savestr,\"_Exp_Summary_Plots/\",\n",
    "                 \"_Summary_\",N,\"_subjects\",\"_plot.png\",sep='')\n",
    "    }\n",
    "\n",
    "        print(savename)\n",
    "        ggsave(savename,g, height = 38, width = 48)\n",
    "}"
   ]
  },
  {
   "cell_type": "code",
   "execution_count": null,
   "metadata": {},
   "outputs": [],
   "source": [
    "if(plotexpsummary){\n",
    "    expsummaryplot(datadf,savestr)\n",
    "    expsummaryplot(datadf,savestr,TRUE)\n",
    "}"
   ]
  },
  {
   "cell_type": "code",
   "execution_count": null,
   "metadata": {},
   "outputs": [],
   "source": [
    "if(population){\n",
    "    population_plot(datadf,savestr)\n",
    "    population_plot(datadf,savestr,TRUE)\n",
    "}"
   ]
  },
  {
   "cell_type": "code",
   "execution_count": null,
   "metadata": {},
   "outputs": [],
   "source": [
    "# position plot (negative control)\n",
    "positionplot <- function(datadf){\n",
    "    # MATRICES\n",
    "    everyonedata <- aggregate_df(datadf)\n",
    "    # FF Matrix plot\n",
    "    FFmatrix <- dissimplot(dissimdata(everyonedata, colors, l2e('Foveal'), l2e('Foveal')),colors, 'position')\n",
    "    # FP Matrix plot\n",
    "    FPmatrix <- dissimplot(dissimdata(everyonedata, colors, l2e('Foveal'), l2e('Peripheral')),colors, 'position')\n",
    "    # PP Matrix plot\n",
    "    PPmatrix <- dissimplot(dissimdata(everyonedata, colors, l2e('Peripheral'), l2e('Peripheral')),colors, 'position')\n",
    "    \n",
    "    g <- arrangeGrob(FFmatrix, FPmatrix, PPmatrix,\n",
    "                    nrow = 1, ncol= 3)\n",
    "     # save it\n",
    "    ggsave(paste(savestr,\"position negative control\",\"plot.png\",sep='_'),g, height = 10, width = 30)\n",
    "}"
   ]
  }
 ],
 "metadata": {
  "kernelspec": {
   "display_name": "R",
   "language": "R",
   "name": "ir"
  },
  "language_info": {
   "codemirror_mode": "r",
   "file_extension": ".r",
   "mimetype": "text/x-r-source",
   "name": "R",
   "pygments_lexer": "r",
   "version": "3.6.1"
  }
 },
 "nbformat": 4,
 "nbformat_minor": 2
}
